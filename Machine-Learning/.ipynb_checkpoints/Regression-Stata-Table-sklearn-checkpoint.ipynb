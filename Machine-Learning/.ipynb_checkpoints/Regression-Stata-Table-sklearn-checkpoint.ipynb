{
 "cells": [
  {
   "cell_type": "code",
   "execution_count": 1,
   "metadata": {},
   "outputs": [],
   "source": [
    "import numpy as np\n",
    "import seaborn as sns\n",
    "import matplotlib.pyplot as plt\n",
    "import pandas as pd\n",
    "%matplotlib inline"
   ]
  },
  {
   "cell_type": "code",
   "execution_count": 2,
   "metadata": {},
   "outputs": [],
   "source": [
    "from sklearn.datasets import load_boston"
   ]
  },
  {
   "cell_type": "code",
   "execution_count": 18,
   "metadata": {},
   "outputs": [],
   "source": [
    "data = load_boston()"
   ]
  },
  {
   "cell_type": "code",
   "execution_count": 19,
   "metadata": {},
   "outputs": [
    {
     "name": "stdout",
     "output_type": "stream",
     "text": [
      ".. _boston_dataset:\n",
      "\n",
      "Boston house prices dataset\n",
      "---------------------------\n",
      "\n",
      "**Data Set Characteristics:**  \n",
      "\n",
      "    :Number of Instances: 506 \n",
      "\n",
      "    :Number of Attributes: 13 numeric/categorical predictive. Median Value (attribute 14) is usually the target.\n",
      "\n",
      "    :Attribute Information (in order):\n",
      "        - CRIM     per capita crime rate by town\n",
      "        - ZN       proportion of residential land zoned for lots over 25,000 sq.ft.\n",
      "        - INDUS    proportion of non-retail business acres per town\n",
      "        - CHAS     Charles River dummy variable (= 1 if tract bounds river; 0 otherwise)\n",
      "        - NOX      nitric oxides concentration (parts per 10 million)\n",
      "        - RM       average number of rooms per dwelling\n",
      "        - AGE      proportion of owner-occupied units built prior to 1940\n",
      "        - DIS      weighted distances to five Boston employment centres\n",
      "        - RAD      index of accessibility to radial highways\n",
      "        - TAX      full-value property-tax rate per $10,000\n",
      "        - PTRATIO  pupil-teacher ratio by town\n",
      "        - B        1000(Bk - 0.63)^2 where Bk is the proportion of blacks by town\n",
      "        - LSTAT    % lower status of the population\n",
      "        - MEDV     Median value of owner-occupied homes in $1000's\n",
      "\n",
      "    :Missing Attribute Values: None\n",
      "\n",
      "    :Creator: Harrison, D. and Rubinfeld, D.L.\n",
      "\n",
      "This is a copy of UCI ML housing dataset.\n",
      "https://archive.ics.uci.edu/ml/machine-learning-databases/housing/\n",
      "\n",
      "\n",
      "This dataset was taken from the StatLib library which is maintained at Carnegie Mellon University.\n",
      "\n",
      "The Boston house-price data of Harrison, D. and Rubinfeld, D.L. 'Hedonic\n",
      "prices and the demand for clean air', J. Environ. Economics & Management,\n",
      "vol.5, 81-102, 1978.   Used in Belsley, Kuh & Welsch, 'Regression diagnostics\n",
      "...', Wiley, 1980.   N.B. Various transformations are used in the table on\n",
      "pages 244-261 of the latter.\n",
      "\n",
      "The Boston house-price data has been used in many machine learning papers that address regression\n",
      "problems.   \n",
      "     \n",
      ".. topic:: References\n",
      "\n",
      "   - Belsley, Kuh & Welsch, 'Regression diagnostics: Identifying Influential Data and Sources of Collinearity', Wiley, 1980. 244-261.\n",
      "   - Quinlan,R. (1993). Combining Instance-Based and Model-Based Learning. In Proceedings on the Tenth International Conference of Machine Learning, 236-243, University of Massachusetts, Amherst. Morgan Kaufmann.\n",
      "\n"
     ]
    }
   ],
   "source": [
    "print(data['DESCR'])"
   ]
  },
  {
   "cell_type": "code",
   "execution_count": 26,
   "metadata": {},
   "outputs": [],
   "source": [
    "X = pd.DataFrame(data.data, columns=data.feature_names)"
   ]
  },
  {
   "cell_type": "code",
   "execution_count": 27,
   "metadata": {},
   "outputs": [
    {
     "data": {
      "text/html": [
       "<div>\n",
       "<style scoped>\n",
       "    .dataframe tbody tr th:only-of-type {\n",
       "        vertical-align: middle;\n",
       "    }\n",
       "\n",
       "    .dataframe tbody tr th {\n",
       "        vertical-align: top;\n",
       "    }\n",
       "\n",
       "    .dataframe thead th {\n",
       "        text-align: right;\n",
       "    }\n",
       "</style>\n",
       "<table border=\"1\" class=\"dataframe\">\n",
       "  <thead>\n",
       "    <tr style=\"text-align: right;\">\n",
       "      <th></th>\n",
       "      <th>CRIM</th>\n",
       "      <th>ZN</th>\n",
       "      <th>INDUS</th>\n",
       "      <th>CHAS</th>\n",
       "      <th>NOX</th>\n",
       "      <th>RM</th>\n",
       "      <th>AGE</th>\n",
       "      <th>DIS</th>\n",
       "      <th>RAD</th>\n",
       "      <th>TAX</th>\n",
       "      <th>PTRATIO</th>\n",
       "      <th>B</th>\n",
       "      <th>LSTAT</th>\n",
       "    </tr>\n",
       "  </thead>\n",
       "  <tbody>\n",
       "    <tr>\n",
       "      <th>0</th>\n",
       "      <td>0.00632</td>\n",
       "      <td>18.0</td>\n",
       "      <td>2.31</td>\n",
       "      <td>0.0</td>\n",
       "      <td>0.538</td>\n",
       "      <td>6.575</td>\n",
       "      <td>65.2</td>\n",
       "      <td>4.0900</td>\n",
       "      <td>1.0</td>\n",
       "      <td>296.0</td>\n",
       "      <td>15.3</td>\n",
       "      <td>396.90</td>\n",
       "      <td>4.98</td>\n",
       "    </tr>\n",
       "    <tr>\n",
       "      <th>1</th>\n",
       "      <td>0.02731</td>\n",
       "      <td>0.0</td>\n",
       "      <td>7.07</td>\n",
       "      <td>0.0</td>\n",
       "      <td>0.469</td>\n",
       "      <td>6.421</td>\n",
       "      <td>78.9</td>\n",
       "      <td>4.9671</td>\n",
       "      <td>2.0</td>\n",
       "      <td>242.0</td>\n",
       "      <td>17.8</td>\n",
       "      <td>396.90</td>\n",
       "      <td>9.14</td>\n",
       "    </tr>\n",
       "    <tr>\n",
       "      <th>2</th>\n",
       "      <td>0.02729</td>\n",
       "      <td>0.0</td>\n",
       "      <td>7.07</td>\n",
       "      <td>0.0</td>\n",
       "      <td>0.469</td>\n",
       "      <td>7.185</td>\n",
       "      <td>61.1</td>\n",
       "      <td>4.9671</td>\n",
       "      <td>2.0</td>\n",
       "      <td>242.0</td>\n",
       "      <td>17.8</td>\n",
       "      <td>392.83</td>\n",
       "      <td>4.03</td>\n",
       "    </tr>\n",
       "    <tr>\n",
       "      <th>3</th>\n",
       "      <td>0.03237</td>\n",
       "      <td>0.0</td>\n",
       "      <td>2.18</td>\n",
       "      <td>0.0</td>\n",
       "      <td>0.458</td>\n",
       "      <td>6.998</td>\n",
       "      <td>45.8</td>\n",
       "      <td>6.0622</td>\n",
       "      <td>3.0</td>\n",
       "      <td>222.0</td>\n",
       "      <td>18.7</td>\n",
       "      <td>394.63</td>\n",
       "      <td>2.94</td>\n",
       "    </tr>\n",
       "    <tr>\n",
       "      <th>4</th>\n",
       "      <td>0.06905</td>\n",
       "      <td>0.0</td>\n",
       "      <td>2.18</td>\n",
       "      <td>0.0</td>\n",
       "      <td>0.458</td>\n",
       "      <td>7.147</td>\n",
       "      <td>54.2</td>\n",
       "      <td>6.0622</td>\n",
       "      <td>3.0</td>\n",
       "      <td>222.0</td>\n",
       "      <td>18.7</td>\n",
       "      <td>396.90</td>\n",
       "      <td>5.33</td>\n",
       "    </tr>\n",
       "  </tbody>\n",
       "</table>\n",
       "</div>"
      ],
      "text/plain": [
       "      CRIM    ZN  INDUS  CHAS    NOX     RM   AGE     DIS  RAD    TAX  \\\n",
       "0  0.00632  18.0   2.31   0.0  0.538  6.575  65.2  4.0900  1.0  296.0   \n",
       "1  0.02731   0.0   7.07   0.0  0.469  6.421  78.9  4.9671  2.0  242.0   \n",
       "2  0.02729   0.0   7.07   0.0  0.469  7.185  61.1  4.9671  2.0  242.0   \n",
       "3  0.03237   0.0   2.18   0.0  0.458  6.998  45.8  6.0622  3.0  222.0   \n",
       "4  0.06905   0.0   2.18   0.0  0.458  7.147  54.2  6.0622  3.0  222.0   \n",
       "\n",
       "   PTRATIO       B  LSTAT  \n",
       "0     15.3  396.90   4.98  \n",
       "1     17.8  396.90   9.14  \n",
       "2     17.8  392.83   4.03  \n",
       "3     18.7  394.63   2.94  \n",
       "4     18.7  396.90   5.33  "
      ]
     },
     "execution_count": 27,
     "metadata": {},
     "output_type": "execute_result"
    }
   ],
   "source": [
    "X.head()"
   ]
  },
  {
   "cell_type": "code",
   "execution_count": 28,
   "metadata": {},
   "outputs": [],
   "source": [
    "y = data.target"
   ]
  },
  {
   "cell_type": "markdown",
   "metadata": {},
   "source": [
    "#### Splitting data"
   ]
  },
  {
   "cell_type": "code",
   "execution_count": 30,
   "metadata": {},
   "outputs": [],
   "source": [
    "from sklearn.model_selection import train_test_split"
   ]
  },
  {
   "cell_type": "code",
   "execution_count": 31,
   "metadata": {},
   "outputs": [],
   "source": [
    "X_train, X_test, y_train, y_test = train_test_split(X,y, test_size=0.3, random_state=101)"
   ]
  },
  {
   "cell_type": "markdown",
   "metadata": {},
   "source": [
    "#### Scaling data"
   ]
  },
  {
   "cell_type": "code",
   "execution_count": 32,
   "metadata": {},
   "outputs": [],
   "source": [
    "from sklearn.preprocessing import StandardScaler"
   ]
  },
  {
   "cell_type": "code",
   "execution_count": 33,
   "metadata": {},
   "outputs": [],
   "source": [
    "sc = StandardScaler()"
   ]
  },
  {
   "cell_type": "code",
   "execution_count": 34,
   "metadata": {},
   "outputs": [],
   "source": [
    "X_train = sc.fit_transform(X_train)"
   ]
  },
  {
   "cell_type": "code",
   "execution_count": 35,
   "metadata": {},
   "outputs": [],
   "source": [
    "X_test = sc.transform(X_test)"
   ]
  },
  {
   "cell_type": "code",
   "execution_count": 36,
   "metadata": {},
   "outputs": [
    {
     "data": {
      "text/plain": [
       "array([[-0.42704101,  4.09805388, -1.2821606 , ..., -1.75847274,\n",
       "         0.36848849, -1.47206228],\n",
       "       [ 0.36426841, -0.48006999,  0.95531935, ...,  0.78573951,\n",
       "         0.38490745, -1.46049687],\n",
       "       [ 0.01647159, -0.48006999,  0.95531935, ...,  0.78573951,\n",
       "         0.34736276, -0.35889127],\n",
       "       ...,\n",
       "       [-0.42578825, -0.48006999, -0.91795342, ...,  0.78573951,\n",
       "         0.41511834, -0.36178262],\n",
       "       [-0.41521993,  0.12231473, -0.52907882, ..., -1.52718072,\n",
       "         0.43799542,  0.02999575],\n",
       "       [-0.41982916,  2.41137667, -1.42581204, ..., -0.09317018,\n",
       "         0.15208658, -1.09474068]])"
      ]
     },
     "execution_count": 36,
     "metadata": {},
     "output_type": "execute_result"
    }
   ],
   "source": [
    "X_train"
   ]
  },
  {
   "cell_type": "markdown",
   "metadata": {},
   "source": [
    "#### Creating Linear Regression model"
   ]
  },
  {
   "cell_type": "code",
   "execution_count": 37,
   "metadata": {},
   "outputs": [],
   "source": [
    "from sklearn.linear_model import LinearRegression"
   ]
  },
  {
   "cell_type": "code",
   "execution_count": 38,
   "metadata": {},
   "outputs": [],
   "source": [
    "lin_reg = LinearRegression()"
   ]
  },
  {
   "cell_type": "code",
   "execution_count": 39,
   "metadata": {},
   "outputs": [
    {
     "data": {
      "text/plain": [
       "LinearRegression(copy_X=True, fit_intercept=True, n_jobs=None, normalize=False)"
      ]
     },
     "execution_count": 39,
     "metadata": {},
     "output_type": "execute_result"
    }
   ],
   "source": [
    "lin_reg.fit(X_train, y_train)"
   ]
  },
  {
   "cell_type": "code",
   "execution_count": 44,
   "metadata": {},
   "outputs": [
    {
     "name": "stdout",
     "output_type": "stream",
     "text": [
      "\u001b[34mR Squared Score:\n",
      "\u001b[30mR Squared Score (Train Model):  0.74713\n",
      "\u001b[30mR Squared Score (Test Model):  0.7124\n",
      " \n",
      "\u001b[34mAdjusted R Squared Score:\n",
      "\u001b[30mAdjusted R Squared (Train Model): 0.73746\n",
      "\u001b[30mAdjusted R Squared (Test Model): 0.6853\n",
      " \n",
      "\u001b[34mErrors : \n",
      "\u001b[30mMean Absolute Error : 3.8356963614189383\n",
      "\u001b[30mRoot Mean Squared Error : 5.3429940362560915\n",
      "\n",
      "\u001b[34mBias / Intercept: \n",
      "\u001b[30mIntercept for the model:  21.97684\n",
      " \n",
      "\u001b[34mWeights / Coefficients: \n",
      "\u001b[0m\n",
      "         Coefficients  F-stat(p-value) Significant\n",
      "CRIM         -0.72909     1.173987e-19         Yes\n",
      "ZN            1.04362     5.713584e-17         Yes\n",
      "INDUS         0.14023     4.900260e-31         Yes\n",
      "CHAS          0.94381     7.390623e-05         Yes\n",
      "NOX          -2.01829     7.065042e-24         Yes\n",
      "RM            2.18918     2.487229e-74         Yes\n",
      "AGE           0.33464     1.569982e-18         Yes\n",
      "DIS          -2.90740     1.206612e-08         Yes\n",
      "RAD           2.31811     5.465933e-19         Yes\n",
      "TAX          -1.77438     5.637734e-29         Yes\n",
      "PTRATIO      -2.05753     1.609509e-34         Yes\n",
      "B             0.55874     1.318113e-14         Yes\n",
      "LSTAT        -4.13048     5.081103e-88         Yes\n",
      " \n"
     ]
    }
   ],
   "source": [
    "#show_stats method is written below, please execute that first\n",
    "show_stats(lin_reg, pd.DataFrame(X_train, columns=X.columns), pd.DataFrame(X_test, columns=X.columns), pd.Series(y_train), pd.Series(y_test))"
   ]
  },
  {
   "cell_type": "code",
   "execution_count": 45,
   "metadata": {},
   "outputs": [],
   "source": [
    "#### Fitting SVM Regressor"
   ]
  },
  {
   "cell_type": "code",
   "execution_count": 46,
   "metadata": {},
   "outputs": [],
   "source": [
    "from sklearn.svm import SVR"
   ]
  },
  {
   "cell_type": "code",
   "execution_count": 50,
   "metadata": {},
   "outputs": [],
   "source": [
    "svr = SVR(kernel='linear')"
   ]
  },
  {
   "cell_type": "code",
   "execution_count": 51,
   "metadata": {},
   "outputs": [
    {
     "data": {
      "text/plain": [
       "SVR(C=1.0, cache_size=200, coef0=0.0, degree=3, epsilon=0.1,\n",
       "    gamma='auto_deprecated', kernel='linear', max_iter=-1, shrinking=True,\n",
       "    tol=0.001, verbose=False)"
      ]
     },
     "execution_count": 51,
     "metadata": {},
     "output_type": "execute_result"
    }
   ],
   "source": [
    "svr.fit(X_train, y_train)"
   ]
  },
  {
   "cell_type": "code",
   "execution_count": 52,
   "metadata": {},
   "outputs": [
    {
     "name": "stdout",
     "output_type": "stream",
     "text": [
      "\u001b[34mR Squared Score:\n",
      "\u001b[30mR Squared Score (Train Model):  0.70662\n",
      "\u001b[30mR Squared Score (Test Model):  0.6861\n",
      " \n",
      "\u001b[34mAdjusted R Squared Score:\n",
      "\u001b[30mAdjusted R Squared (Train Model): 0.6954\n",
      "\u001b[30mAdjusted R Squared (Test Model): 0.65653\n",
      " \n",
      "\u001b[34mErrors : \n",
      "\u001b[30mMean Absolute Error : 3.6685142988034025\n",
      "\u001b[30mRoot Mean Squared Error : 5.581901921476146\n",
      "\n",
      "\u001b[34mBias / Intercept: \n",
      "\u001b[30mIntercept for the model:  [21.04399]\n",
      " \n",
      "\u001b[34mWeights / Coefficients: \n",
      "\u001b[0m\n",
      "         Coefficients  F-stat(p-value) Significant\n",
      "CRIM         -1.06792     1.173987e-19         Yes\n",
      "ZN            0.97777     5.713584e-17         Yes\n",
      "INDUS         0.27320     4.900260e-31         Yes\n",
      "CHAS          0.67414     7.390623e-05         Yes\n",
      "NOX          -0.94952     7.065042e-24         Yes\n",
      "RM            2.82113     2.487229e-74         Yes\n",
      "AGE          -0.29934     1.569982e-18         Yes\n",
      "DIS          -1.60839     1.206612e-08         Yes\n",
      "RAD           1.35165     5.465933e-19         Yes\n",
      "TAX          -1.72805     5.637734e-29         Yes\n",
      "PTRATIO      -1.40054     1.609509e-34         Yes\n",
      "B             0.79865     1.318113e-14         Yes\n",
      "LSTAT        -2.62560     5.081103e-88         Yes\n",
      " \n"
     ]
    }
   ],
   "source": [
    "#show_stats method is written below, please execute that first\n",
    "show_stats(svr, pd.DataFrame(X_train, columns=X.columns), pd.DataFrame(X_test, columns=X.columns), pd.Series(y_train), pd.Series(y_test))"
   ]
  },
  {
   "cell_type": "code",
   "execution_count": 40,
   "metadata": {},
   "outputs": [],
   "source": [
    "def show_stats(regression_model, X_train, X_test, y_train, y_test):\n",
    "    #For printing in colored font\n",
    "    import colorama\n",
    "    from colorama import Fore, Style\n",
    "    #print(Fore.BLUE + \"Hello World\")\n",
    "    #print(Style.RESET_ALL)\n",
    "    \n",
    "    #7. Checking the data types, exit if not proper types\n",
    "    X_train_type = type(X_train)\n",
    "    X_test_type = type(X_test)\n",
    "    y_train_type = type(y_train)\n",
    "    y_test_type = type(y_test)\n",
    "    if ((X_train_type != pd.DataFrame) & (X_test_type != pd.DataFrame) & (y_train_type != pd.Series) & (y_test_type != pd.Series)):\n",
    "        print(Fore.RED + '**** Please pass the data in expected format ****')\n",
    "        print('You passed the data in the following format:')\n",
    "        print('X_train type you passsed: ',X_train_type)\n",
    "        print('X_test type you passsed: ',X_test_type)\n",
    "        print('y_train type you passsed: ',y_train_type)\n",
    "        print('y_test type you passsed: ',y_test_type)\n",
    "        print(Fore.BLUE +'Expected Formats are: ')\n",
    "        print('X_train type: ',pd.DataFrame)\n",
    "        print('X_test type: ',pd.DataFrame)\n",
    "        print('y_train type: ',pd.Series)\n",
    "        print('y_test type: ',pd.Series)\n",
    "        return 'Exiting Method'\n",
    " \n",
    "    #1. Getting R SquaredAdjusted R-Squared\n",
    "    print(Fore.BLUE + 'R Squared Score:')\n",
    "    train_rsq = regression_model.score(X_train,y_train)\n",
    "    test_rsq = regression_model.score(X_test,y_test)\n",
    "    print(Fore.BLACK + 'R Squared Score (Train Model): ',train_rsq.round(5))\n",
    "    print(Fore.BLACK + 'R Squared Score (Test Model): ',test_rsq.round(5))\n",
    "    print(\" \")\n",
    "    \n",
    "    #2. Getting Adjusted R Squared\n",
    "    print(Fore.BLUE + 'Adjusted R Squared Score:')\n",
    "    train_adrsq = 1 - (1 - train_rsq) * (X_train.shape[0]-1)/(X_train.shape[0] - X_train.shape[1] - 1)\n",
    "    test_adrsq = 1 - (1 - test_rsq) * (X_test.shape[0]-1)/(X_test.shape[0] - X_test.shape[1] - 1)\n",
    "    print(Fore.BLACK + 'Adjusted R Squared (Train Model):', train_adrsq.round(5))\n",
    "    print(Fore.BLACK + 'Adjusted R Squared (Test Model):', test_adrsq.round(5))\n",
    "    print(' ')\n",
    "    \n",
    "    #8. Getting MAE and RMSE\n",
    "    print(Fore.BLUE + \"Errors : \")\n",
    "    from sklearn import metrics\n",
    "    import numpy as np\n",
    "    y_pred = regression_model.predict(X_test)\n",
    "    print(Fore.BLACK + \"Mean Absolute Error :\", metrics.mean_absolute_error(y_test, y_pred))\n",
    "    print(Fore.BLACK + \"Root Mean Squared Error :\", np.sqrt(metrics.mean_squared_error(y_test, y_pred)))\n",
    "    print('')\n",
    "    \n",
    "    #3. Getting Intercept\n",
    "    print(Fore.BLUE + \"Bias / Intercept: \")\n",
    "    print(Fore.BLACK + \"Intercept for the model: \",regression_model.intercept_.round(5))\n",
    "    print(' ')\n",
    "    \n",
    "    #=========== Getting & Creating the coefficient & p-values matrix =====================\n",
    "    #4. Getting Coefficients\n",
    "    print(Fore.BLUE + \"Weights / Coefficients: \")\n",
    "    print(Style.RESET_ALL)\n",
    "    coefs = regression_model.coef_\n",
    "    coefs= coefs.reshape(-1,1)\n",
    "    coefs_df = pd.DataFrame(data=coefs.round(5), index=X_test.columns, columns=['Coefficients'])\n",
    "    \n",
    "    #5. Getting p-values of features\n",
    "    from sklearn.feature_selection import f_regression\n",
    "    X_all = pd.concat([X_train, X_test])\n",
    "    y_all = y_train.append(y_test)\n",
    "    p_values = f_regression(X_all,y_all)[1] \n",
    "    \n",
    "    #Tried adding round off to 5 digits for p-value but it is not wotking, hence commented\n",
    "    #coefs_df = pd.concat([coefs_df,pd.DataFrame(p_values, index=X_test.columns, columns=['F-stat(p-value)']), \n",
    "                          #pd.DataFrame(p_values.round(5), index=X_test.columns, columns=['round(p-value)']) ], axis=1)\n",
    "    coefs_df = pd.concat([coefs_df,pd.DataFrame(p_values, index=X_test.columns, columns=['F-stat(p-value)'])], axis=1)\n",
    "    \n",
    "    #6. Adding Significant Column\n",
    "    sig = []\n",
    "    for element in p_values:\n",
    "        if element.round(5) < 0.05:\n",
    "            sig.append('Yes')\n",
    "        else:\n",
    "            sig.append('No')\n",
    "    coefs_df = pd.concat([coefs_df, pd.DataFrame(sig, columns=['Significant'], index=X_test.columns)], axis=1)\n",
    "    print(coefs_df)\n",
    "    print(' ')\n",
    "    "
   ]
  },
  {
   "cell_type": "code",
   "execution_count": null,
   "metadata": {},
   "outputs": [],
   "source": []
  }
 ],
 "metadata": {
  "kernelspec": {
   "display_name": "Python 3",
   "language": "python",
   "name": "python3"
  },
  "language_info": {
   "codemirror_mode": {
    "name": "ipython",
    "version": 3
   },
   "file_extension": ".py",
   "mimetype": "text/x-python",
   "name": "python",
   "nbconvert_exporter": "python",
   "pygments_lexer": "ipython3",
   "version": "3.6.7"
  }
 },
 "nbformat": 4,
 "nbformat_minor": 2
}
