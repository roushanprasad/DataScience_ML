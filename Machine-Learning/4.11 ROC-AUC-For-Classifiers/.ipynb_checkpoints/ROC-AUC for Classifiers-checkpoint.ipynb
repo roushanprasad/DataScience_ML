{
 "cells": [
  {
   "cell_type": "markdown",
   "metadata": {},
   "source": [
    "# ROC (Receiver Operating Characteristics) \n",
    "# AUC Concept\n",
    "\n",
    "### Import libraries"
   ]
  },
  {
   "cell_type": "code",
   "execution_count": 1,
   "metadata": {},
   "outputs": [],
   "source": [
    "import pandas as pd\n",
    "import numpy as np\n",
    "import matplotlib.pyplot as plt\n",
    "get_ipython().run_line_magic('matplotlib', 'inline')\n",
    "import seaborn as sns"
   ]
  },
  {
   "cell_type": "markdown",
   "metadata": {},
   "source": [
    "#### import dataset"
   ]
  },
  {
   "cell_type": "code",
   "execution_count": 2,
   "metadata": {},
   "outputs": [],
   "source": [
    "from sklearn import datasets"
   ]
  },
  {
   "cell_type": "code",
   "execution_count": 3,
   "metadata": {},
   "outputs": [],
   "source": [
    "data = datasets.load_breast_cancer()"
   ]
  },
  {
   "cell_type": "markdown",
   "metadata": {},
   "source": [
    "#### Separate Features and target"
   ]
  },
  {
   "cell_type": "code",
   "execution_count": 5,
   "metadata": {},
   "outputs": [],
   "source": [
    "y = data['target']"
   ]
  },
  {
   "cell_type": "code",
   "execution_count": 6,
   "metadata": {},
   "outputs": [],
   "source": [
    "X = pd.DataFrame(data = data['data'], columns=data['feature_names'])"
   ]
  },
  {
   "cell_type": "code",
   "execution_count": 7,
   "metadata": {},
   "outputs": [
    {
     "data": {
      "text/html": [
       "<div>\n",
       "<style scoped>\n",
       "    .dataframe tbody tr th:only-of-type {\n",
       "        vertical-align: middle;\n",
       "    }\n",
       "\n",
       "    .dataframe tbody tr th {\n",
       "        vertical-align: top;\n",
       "    }\n",
       "\n",
       "    .dataframe thead th {\n",
       "        text-align: right;\n",
       "    }\n",
       "</style>\n",
       "<table border=\"1\" class=\"dataframe\">\n",
       "  <thead>\n",
       "    <tr style=\"text-align: right;\">\n",
       "      <th></th>\n",
       "      <th>mean radius</th>\n",
       "      <th>mean texture</th>\n",
       "      <th>mean perimeter</th>\n",
       "      <th>mean area</th>\n",
       "      <th>mean smoothness</th>\n",
       "      <th>mean compactness</th>\n",
       "      <th>mean concavity</th>\n",
       "      <th>mean concave points</th>\n",
       "      <th>mean symmetry</th>\n",
       "      <th>mean fractal dimension</th>\n",
       "      <th>...</th>\n",
       "      <th>worst radius</th>\n",
       "      <th>worst texture</th>\n",
       "      <th>worst perimeter</th>\n",
       "      <th>worst area</th>\n",
       "      <th>worst smoothness</th>\n",
       "      <th>worst compactness</th>\n",
       "      <th>worst concavity</th>\n",
       "      <th>worst concave points</th>\n",
       "      <th>worst symmetry</th>\n",
       "      <th>worst fractal dimension</th>\n",
       "    </tr>\n",
       "  </thead>\n",
       "  <tbody>\n",
       "    <tr>\n",
       "      <th>0</th>\n",
       "      <td>17.99</td>\n",
       "      <td>10.38</td>\n",
       "      <td>122.80</td>\n",
       "      <td>1001.0</td>\n",
       "      <td>0.11840</td>\n",
       "      <td>0.27760</td>\n",
       "      <td>0.3001</td>\n",
       "      <td>0.14710</td>\n",
       "      <td>0.2419</td>\n",
       "      <td>0.07871</td>\n",
       "      <td>...</td>\n",
       "      <td>25.38</td>\n",
       "      <td>17.33</td>\n",
       "      <td>184.60</td>\n",
       "      <td>2019.0</td>\n",
       "      <td>0.1622</td>\n",
       "      <td>0.6656</td>\n",
       "      <td>0.7119</td>\n",
       "      <td>0.2654</td>\n",
       "      <td>0.4601</td>\n",
       "      <td>0.11890</td>\n",
       "    </tr>\n",
       "    <tr>\n",
       "      <th>1</th>\n",
       "      <td>20.57</td>\n",
       "      <td>17.77</td>\n",
       "      <td>132.90</td>\n",
       "      <td>1326.0</td>\n",
       "      <td>0.08474</td>\n",
       "      <td>0.07864</td>\n",
       "      <td>0.0869</td>\n",
       "      <td>0.07017</td>\n",
       "      <td>0.1812</td>\n",
       "      <td>0.05667</td>\n",
       "      <td>...</td>\n",
       "      <td>24.99</td>\n",
       "      <td>23.41</td>\n",
       "      <td>158.80</td>\n",
       "      <td>1956.0</td>\n",
       "      <td>0.1238</td>\n",
       "      <td>0.1866</td>\n",
       "      <td>0.2416</td>\n",
       "      <td>0.1860</td>\n",
       "      <td>0.2750</td>\n",
       "      <td>0.08902</td>\n",
       "    </tr>\n",
       "    <tr>\n",
       "      <th>2</th>\n",
       "      <td>19.69</td>\n",
       "      <td>21.25</td>\n",
       "      <td>130.00</td>\n",
       "      <td>1203.0</td>\n",
       "      <td>0.10960</td>\n",
       "      <td>0.15990</td>\n",
       "      <td>0.1974</td>\n",
       "      <td>0.12790</td>\n",
       "      <td>0.2069</td>\n",
       "      <td>0.05999</td>\n",
       "      <td>...</td>\n",
       "      <td>23.57</td>\n",
       "      <td>25.53</td>\n",
       "      <td>152.50</td>\n",
       "      <td>1709.0</td>\n",
       "      <td>0.1444</td>\n",
       "      <td>0.4245</td>\n",
       "      <td>0.4504</td>\n",
       "      <td>0.2430</td>\n",
       "      <td>0.3613</td>\n",
       "      <td>0.08758</td>\n",
       "    </tr>\n",
       "    <tr>\n",
       "      <th>3</th>\n",
       "      <td>11.42</td>\n",
       "      <td>20.38</td>\n",
       "      <td>77.58</td>\n",
       "      <td>386.1</td>\n",
       "      <td>0.14250</td>\n",
       "      <td>0.28390</td>\n",
       "      <td>0.2414</td>\n",
       "      <td>0.10520</td>\n",
       "      <td>0.2597</td>\n",
       "      <td>0.09744</td>\n",
       "      <td>...</td>\n",
       "      <td>14.91</td>\n",
       "      <td>26.50</td>\n",
       "      <td>98.87</td>\n",
       "      <td>567.7</td>\n",
       "      <td>0.2098</td>\n",
       "      <td>0.8663</td>\n",
       "      <td>0.6869</td>\n",
       "      <td>0.2575</td>\n",
       "      <td>0.6638</td>\n",
       "      <td>0.17300</td>\n",
       "    </tr>\n",
       "    <tr>\n",
       "      <th>4</th>\n",
       "      <td>20.29</td>\n",
       "      <td>14.34</td>\n",
       "      <td>135.10</td>\n",
       "      <td>1297.0</td>\n",
       "      <td>0.10030</td>\n",
       "      <td>0.13280</td>\n",
       "      <td>0.1980</td>\n",
       "      <td>0.10430</td>\n",
       "      <td>0.1809</td>\n",
       "      <td>0.05883</td>\n",
       "      <td>...</td>\n",
       "      <td>22.54</td>\n",
       "      <td>16.67</td>\n",
       "      <td>152.20</td>\n",
       "      <td>1575.0</td>\n",
       "      <td>0.1374</td>\n",
       "      <td>0.2050</td>\n",
       "      <td>0.4000</td>\n",
       "      <td>0.1625</td>\n",
       "      <td>0.2364</td>\n",
       "      <td>0.07678</td>\n",
       "    </tr>\n",
       "  </tbody>\n",
       "</table>\n",
       "<p>5 rows × 30 columns</p>\n",
       "</div>"
      ],
      "text/plain": [
       "   mean radius  mean texture  mean perimeter  mean area  mean smoothness  \\\n",
       "0        17.99         10.38          122.80     1001.0          0.11840   \n",
       "1        20.57         17.77          132.90     1326.0          0.08474   \n",
       "2        19.69         21.25          130.00     1203.0          0.10960   \n",
       "3        11.42         20.38           77.58      386.1          0.14250   \n",
       "4        20.29         14.34          135.10     1297.0          0.10030   \n",
       "\n",
       "   mean compactness  mean concavity  mean concave points  mean symmetry  \\\n",
       "0           0.27760          0.3001              0.14710         0.2419   \n",
       "1           0.07864          0.0869              0.07017         0.1812   \n",
       "2           0.15990          0.1974              0.12790         0.2069   \n",
       "3           0.28390          0.2414              0.10520         0.2597   \n",
       "4           0.13280          0.1980              0.10430         0.1809   \n",
       "\n",
       "   mean fractal dimension  ...  worst radius  worst texture  worst perimeter  \\\n",
       "0                 0.07871  ...         25.38          17.33           184.60   \n",
       "1                 0.05667  ...         24.99          23.41           158.80   \n",
       "2                 0.05999  ...         23.57          25.53           152.50   \n",
       "3                 0.09744  ...         14.91          26.50            98.87   \n",
       "4                 0.05883  ...         22.54          16.67           152.20   \n",
       "\n",
       "   worst area  worst smoothness  worst compactness  worst concavity  \\\n",
       "0      2019.0            0.1622             0.6656           0.7119   \n",
       "1      1956.0            0.1238             0.1866           0.2416   \n",
       "2      1709.0            0.1444             0.4245           0.4504   \n",
       "3       567.7            0.2098             0.8663           0.6869   \n",
       "4      1575.0            0.1374             0.2050           0.4000   \n",
       "\n",
       "   worst concave points  worst symmetry  worst fractal dimension  \n",
       "0                0.2654          0.4601                  0.11890  \n",
       "1                0.1860          0.2750                  0.08902  \n",
       "2                0.2430          0.3613                  0.08758  \n",
       "3                0.2575          0.6638                  0.17300  \n",
       "4                0.1625          0.2364                  0.07678  \n",
       "\n",
       "[5 rows x 30 columns]"
      ]
     },
     "execution_count": 7,
     "metadata": {},
     "output_type": "execute_result"
    }
   ],
   "source": [
    "X.head()"
   ]
  },
  {
   "cell_type": "markdown",
   "metadata": {},
   "source": [
    "### Scaling the data"
   ]
  },
  {
   "cell_type": "code",
   "execution_count": 8,
   "metadata": {},
   "outputs": [],
   "source": [
    "from sklearn.preprocessing import StandardScaler"
   ]
  },
  {
   "cell_type": "code",
   "execution_count": 9,
   "metadata": {},
   "outputs": [],
   "source": [
    "sc = StandardScaler()"
   ]
  },
  {
   "cell_type": "code",
   "execution_count": 10,
   "metadata": {},
   "outputs": [],
   "source": [
    "X = sc.fit_transform(X)"
   ]
  },
  {
   "cell_type": "markdown",
   "metadata": {},
   "source": [
    "### Separating the training and testing dataset"
   ]
  },
  {
   "cell_type": "code",
   "execution_count": 11,
   "metadata": {},
   "outputs": [],
   "source": [
    "from sklearn.model_selection import train_test_split"
   ]
  },
  {
   "cell_type": "code",
   "execution_count": 12,
   "metadata": {},
   "outputs": [],
   "source": [
    "X_train, X_test, y_train, y_test = train_test_split(X,y, test_size=0.3, random_state=101)"
   ]
  },
  {
   "cell_type": "markdown",
   "metadata": {},
   "source": [
    "### Building Logistic regression"
   ]
  },
  {
   "cell_type": "code",
   "execution_count": 13,
   "metadata": {},
   "outputs": [],
   "source": [
    "from sklearn.linear_model import LogisticRegression"
   ]
  },
  {
   "cell_type": "code",
   "execution_count": 14,
   "metadata": {},
   "outputs": [],
   "source": [
    "log_reg = LogisticRegression()"
   ]
  },
  {
   "cell_type": "code",
   "execution_count": 15,
   "metadata": {},
   "outputs": [
    {
     "name": "stderr",
     "output_type": "stream",
     "text": [
      "C:\\Anaconda3\\lib\\site-packages\\sklearn\\linear_model\\logistic.py:432: FutureWarning: Default solver will be changed to 'lbfgs' in 0.22. Specify a solver to silence this warning.\n",
      "  FutureWarning)\n"
     ]
    },
    {
     "data": {
      "text/plain": [
       "LogisticRegression(C=1.0, class_weight=None, dual=False, fit_intercept=True,\n",
       "                   intercept_scaling=1, l1_ratio=None, max_iter=100,\n",
       "                   multi_class='warn', n_jobs=None, penalty='l2',\n",
       "                   random_state=None, solver='warn', tol=0.0001, verbose=0,\n",
       "                   warm_start=False)"
      ]
     },
     "execution_count": 15,
     "metadata": {},
     "output_type": "execute_result"
    }
   ],
   "source": [
    "log_reg.fit(X_train, y_train)"
   ]
  },
  {
   "cell_type": "code",
   "execution_count": 16,
   "metadata": {},
   "outputs": [],
   "source": [
    "y_pred1 = log_reg.predict(X_test)"
   ]
  },
  {
   "cell_type": "code",
   "execution_count": 18,
   "metadata": {},
   "outputs": [
    {
     "name": "stdout",
     "output_type": "stream",
     "text": [
      "              precision    recall  f1-score   support\n",
      "\n",
      "           0       0.98      0.95      0.97        66\n",
      "           1       0.97      0.99      0.98       105\n",
      "\n",
      "    accuracy                           0.98       171\n",
      "   macro avg       0.98      0.97      0.98       171\n",
      "weighted avg       0.98      0.98      0.98       171\n",
      "\n"
     ]
    }
   ],
   "source": [
    "from sklearn import metrics\n",
    "print(metrics.classification_report(y_test, y_pred1))"
   ]
  },
  {
   "cell_type": "markdown",
   "metadata": {},
   "source": [
    "#### ROC AUC Curve for Logistic Regression"
   ]
  },
  {
   "cell_type": "code",
   "execution_count": 19,
   "metadata": {},
   "outputs": [],
   "source": [
    "#fpr = False Positive Rate (1 - Specificity)\n",
    "#tpr = True Positive Rate (Sensitivity)\n",
    "#thr = threshhold\n",
    "fpr, tpr, thr = metrics.roc_curve(y_test, y_pred1)"
   ]
  },
  {
   "cell_type": "code",
   "execution_count": 20,
   "metadata": {},
   "outputs": [],
   "source": [
    "#Getting Area under ROC curve\n",
    "auc_score = metrics.roc_auc_score(y_test, y_pred1)"
   ]
  },
  {
   "cell_type": "code",
   "execution_count": 21,
   "metadata": {},
   "outputs": [
    {
     "data": {
      "text/plain": [
       "0.9725108225108225"
      ]
     },
     "execution_count": 21,
     "metadata": {},
     "output_type": "execute_result"
    }
   ],
   "source": [
    "auc_score"
   ]
  },
  {
   "cell_type": "code",
   "execution_count": 22,
   "metadata": {},
   "outputs": [],
   "source": [
    "#Another way to get the same Aread Under ROC\n",
    "#auc_score = metrics.auc(fpr, tpr)"
   ]
  },
  {
   "cell_type": "code",
   "execution_count": 23,
   "metadata": {},
   "outputs": [
    {
     "data": {
      "text/plain": [
       "0.9725108225108225"
      ]
     },
     "execution_count": 23,
     "metadata": {},
     "output_type": "execute_result"
    }
   ],
   "source": [
    "roc_auc"
   ]
  },
  {
   "cell_type": "markdown",
   "metadata": {},
   "source": [
    "#### Plotting AU ROC"
   ]
  },
  {
   "cell_type": "code",
   "execution_count": 24,
   "metadata": {},
   "outputs": [
    {
     "data": {
      "text/plain": [
       "Text(0.5, 0, 'False Positive Rate')"
      ]
     },
     "execution_count": 24,
     "metadata": {},
     "output_type": "execute_result"
    },
    {
     "data": {
      "image/png": "[encoded data removed]",
      "text/plain": [
       "<Figure size 432x288 with 1 Axes>"
      ]
     },
     "metadata": {
      "needs_background": "light"
     },
     "output_type": "display_data"
    }
   ],
   "source": [
    "plt.title('Receiver Operating Characteristic')\n",
    "plt.plot(fpr, tpr, 'b', label = 'AUC = %0.2f' % auc_score)\n",
    "plt.legend(loc = 'lower right')\n",
    "plt.plot([0, 1], [0, 1],'r--')\n",
    "plt.xlim([0, 1])\n",
    "plt.ylim([0, 1])\n",
    "plt.ylabel('True Positive Rate')\n",
    "plt.xlabel('False Positive Rate')"
   ]
  },
  {
   "cell_type": "markdown",
   "metadata": {},
   "source": [
    "### Building SVM Model"
   ]
  },
  {
   "cell_type": "code",
   "execution_count": 25,
   "metadata": {},
   "outputs": [],
   "source": [
    "from sklearn.svm import SVC"
   ]
  },
  {
   "cell_type": "code",
   "execution_count": 26,
   "metadata": {},
   "outputs": [],
   "source": [
    "svc_reg = SVC(C=10, gamma=0.01)"
   ]
  },
  {
   "cell_type": "code",
   "execution_count": 27,
   "metadata": {},
   "outputs": [
    {
     "data": {
      "text/plain": [
       "SVC(C=10, cache_size=200, class_weight=None, coef0=0.0,\n",
       "    decision_function_shape='ovr', degree=3, gamma=0.01, kernel='rbf',\n",
       "    max_iter=-1, probability=False, random_state=None, shrinking=True,\n",
       "    tol=0.001, verbose=False)"
      ]
     },
     "execution_count": 27,
     "metadata": {},
     "output_type": "execute_result"
    }
   ],
   "source": [
    "svc_reg.fit(X_train, y_train)"
   ]
  },
  {
   "cell_type": "code",
   "execution_count": 28,
   "metadata": {},
   "outputs": [],
   "source": [
    "y_pred2 = svc_reg.predict(X_test)"
   ]
  },
  {
   "cell_type": "code",
   "execution_count": 29,
   "metadata": {},
   "outputs": [
    {
     "name": "stdout",
     "output_type": "stream",
     "text": [
      "              precision    recall  f1-score   support\n",
      "\n",
      "           0       1.00      0.97      0.98        66\n",
      "           1       0.98      1.00      0.99       105\n",
      "\n",
      "    accuracy                           0.99       171\n",
      "   macro avg       0.99      0.98      0.99       171\n",
      "weighted avg       0.99      0.99      0.99       171\n",
      "\n"
     ]
    }
   ],
   "source": [
    "print(metrics.classification_report(y_test, y_pred2))"
   ]
  },
  {
   "cell_type": "markdown",
   "metadata": {},
   "source": [
    "#### Plotting the AUROC on Logistic AUROC graph"
   ]
  },
  {
   "cell_type": "code",
   "execution_count": 32,
   "metadata": {},
   "outputs": [],
   "source": [
    "fpr2, tpr2, thr2 = metrics.roc_curve(y_test, y_pred2)"
   ]
  },
  {
   "cell_type": "code",
   "execution_count": 33,
   "metadata": {},
   "outputs": [],
   "source": [
    "auc_score2 = metrics.roc_auc_score(y_test, y_pred2)"
   ]
  },
  {
   "cell_type": "code",
   "execution_count": 34,
   "metadata": {},
   "outputs": [
    {
     "data": {
      "text/plain": [
       "0.9848484848484849"
      ]
     },
     "execution_count": 34,
     "metadata": {},
     "output_type": "execute_result"
    }
   ],
   "source": [
    "auc_score2"
   ]
  },
  {
   "cell_type": "code",
   "execution_count": 35,
   "metadata": {},
   "outputs": [
    {
     "data": {
      "text/plain": [
       "Text(0.5, 0, 'False Positive Rate')"
      ]
     },
     "execution_count": 35,
     "metadata": {},
     "output_type": "execute_result"
    },
    {
     "data": {
      "image/png": "[encoded data removed]",
      "text/plain": [
       "<Figure size 432x288 with 1 Axes>"
      ]
     },
     "metadata": {
      "needs_background": "light"
     },
     "output_type": "display_data"
    }
   ],
   "source": [
    "plt.title('Receiver Operating Characteristic')\n",
    "plt.plot(fpr, tpr, 'b', label = 'AUC = %0.2f' % auc_score)\n",
    "plt.plot(fpr2, tpr2, 'b', label = 'SVM AUC = %0.2f' % auc_score2, color='green')\n",
    "plt.legend(loc = 'lower right')\n",
    "plt.plot([0, 1], [0, 1],'r--')\n",
    "plt.xlim([0, 1])\n",
    "plt.ylim([0, 1])\n",
    "plt.ylabel('True Positive Rate')\n",
    "plt.xlabel('False Positive Rate')"
   ]
  },
  {
   "cell_type": "markdown",
   "metadata": {},
   "source": [
    "### Grid Search for SVM"
   ]
  },
  {
   "cell_type": "code",
   "execution_count": 36,
   "metadata": {},
   "outputs": [],
   "source": [
    "from sklearn.model_selection import GridSearchCV"
   ]
  },
  {
   "cell_type": "code",
   "execution_count": 37,
   "metadata": {},
   "outputs": [],
   "source": [
    "grid_params = {'C':[1,10,100,1000],'gamma':[0.1,0.01,0.001,0.0001], 'kernel':['rbf','poly'],'degree':[3,4,5,6,7]}"
   ]
  },
  {
   "cell_type": "code",
   "execution_count": 38,
   "metadata": {},
   "outputs": [],
   "source": [
    "gs_reg = GridSearchCV(svc_reg, grid_params, verbose= 3)"
   ]
  },
  {
   "cell_type": "code",
   "execution_count": 39,
   "metadata": {},
   "outputs": [
    {
     "name": "stderr",
     "output_type": "stream",
     "text": [
      "C:\\Anaconda3\\lib\\site-packages\\sklearn\\model_selection\\_split.py:1978: FutureWarning: The default value of cv will change from 3 to 5 in version 0.22. Specify it explicitly to silence this warning.\n",
      "  warnings.warn(CV_WARNING, FutureWarning)\n",
      "[Parallel(n_jobs=1)]: Using backend SequentialBackend with 1 concurrent workers.\n",
      "[Parallel(n_jobs=1)]: Done   1 out of   1 | elapsed:    0.0s remaining:    0.0s\n",
      "[Parallel(n_jobs=1)]: Done   2 out of   2 | elapsed:    0.0s remaining:    0.0s\n"
     ]
    },
    {
     "name": "stdout",
     "output_type": "stream",
     "text": [
      "Fitting 3 folds for each of 160 candidates, totalling 480 fits\n",
      "[CV] C=1, degree=3, gamma=0.1, kernel=rbf ............................\n",
      "[CV]  C=1, degree=3, gamma=0.1, kernel=rbf, score=0.932, total=   0.0s\n",
      "[CV] C=1, degree=3, gamma=0.1, kernel=rbf ............................\n",
      "[CV]  C=1, degree=3, gamma=0.1, kernel=rbf, score=0.955, total=   0.0s\n",
      "[CV] C=1, degree=3, gamma=0.1, kernel=rbf ............................\n",
      "[CV]  C=1, degree=3, gamma=0.1, kernel=rbf, score=0.977, total=   0.0s\n",
      "[CV] C=1, degree=3, gamma=0.1, kernel=poly ...........................\n",
      "[CV]  C=1, degree=3, gamma=0.1, kernel=poly, score=0.932, total=   0.0s\n",
      "[CV] C=1, degree=3, gamma=0.1, kernel=poly ...........................\n",
      "[CV]  C=1, degree=3, gamma=0.1, kernel=poly, score=0.977, total=   0.0s\n",
      "[CV] C=1, degree=3, gamma=0.1, kernel=poly ...........................\n",
      "[CV]  C=1, degree=3, gamma=0.1, kernel=poly, score=0.977, total=   0.0s\n",
      "[CV] C=1, degree=3, gamma=0.01, kernel=rbf ...........................\n",
      "[CV]  C=1, degree=3, gamma=0.01, kernel=rbf, score=0.970, total=   0.0s\n",
      "[CV] C=1, degree=3, gamma=0.01, kernel=rbf ...........................\n",
      "[CV]  C=1, degree=3, gamma=0.01, kernel=rbf, score=0.985, total=   0.0s\n",
      "[CV] C=1, degree=3, gamma=0.01, kernel=rbf ...........................\n",
      "[CV]  C=1, degree=3, gamma=0.01, kernel=rbf, score=0.977, total=   0.0s\n",
      "[CV] C=1, degree=3, gamma=0.01, kernel=poly ..........................\n",
      "[CV]  C=1, degree=3, gamma=0.01, kernel=poly, score=0.707, total=   0.0s\n",
      "[CV] C=1, degree=3, gamma=0.01, kernel=poly ..........................\n",
      "[CV]  C=1, degree=3, gamma=0.01, kernel=poly, score=0.737, total=   0.0s\n",
      "[CV] C=1, degree=3, gamma=0.01, kernel=poly ..........................\n",
      "[CV]  C=1, degree=3, gamma=0.01, kernel=poly, score=0.742, total=   0.0s\n",
      "[CV] C=1, degree=3, gamma=0.001, kernel=rbf ..........................\n",
      "[CV]  C=1, degree=3, gamma=0.001, kernel=rbf, score=0.917, total=   0.0s\n",
      "[CV] C=1, degree=3, gamma=0.001, kernel=rbf ..........................\n",
      "[CV]  C=1, degree=3, gamma=0.001, kernel=rbf, score=0.977, total=   0.0s\n",
      "[CV] C=1, degree=3, gamma=0.001, kernel=rbf ..........................\n",
      "[CV]  C=1, degree=3, gamma=0.001, kernel=rbf, score=0.970, total=   0.0s\n",
      "[CV] C=1, degree=3, gamma=0.001, kernel=poly .........................\n",
      "[CV]  C=1, degree=3, gamma=0.001, kernel=poly, score=0.632, total=   0.0s\n",
      "[CV] C=1, degree=3, gamma=0.001, kernel=poly .........................\n",
      "[CV]  C=1, degree=3, gamma=0.001, kernel=poly, score=0.632, total=   0.0s\n",
      "[CV] C=1, degree=3, gamma=0.001, kernel=poly .........................\n",
      "[CV]  C=1, degree=3, gamma=0.001, kernel=poly, score=0.636, total=   0.0s\n",
      "[CV] C=1, degree=3, gamma=0.0001, kernel=rbf .........................\n",
      "[CV]  C=1, degree=3, gamma=0.0001, kernel=rbf, score=0.662, total=   0.0s\n",
      "[CV] C=1, degree=3, gamma=0.0001, kernel=rbf .........................\n",
      "[CV]  C=1, degree=3, gamma=0.0001, kernel=rbf, score=0.662, total=   0.0s\n",
      "[CV] C=1, degree=3, gamma=0.0001, kernel=rbf .........................\n",
      "[CV]  C=1, degree=3, gamma=0.0001, kernel=rbf, score=0.682, total=   0.0s\n",
      "[CV] C=1, degree=3, gamma=0.0001, kernel=poly ........................\n",
      "[CV]  C=1, degree=3, gamma=0.0001, kernel=poly, score=0.632, total=   0.0s\n",
      "[CV] C=1, degree=3, gamma=0.0001, kernel=poly ........................\n",
      "[CV]  C=1, degree=3, gamma=0.0001, kernel=poly, score=0.632, total=   0.0s\n",
      "[CV] C=1, degree=3, gamma=0.0001, kernel=poly ........................\n",
      "[CV]  C=1, degree=3, gamma=0.0001, kernel=poly, score=0.636, total=   0.0s\n",
      "[CV] C=1, degree=4, gamma=0.1, kernel=rbf ............................\n",
      "[CV]  C=1, degree=4, gamma=0.1, kernel=rbf, score=0.932, total=   0.0s\n",
      "[CV] C=1, degree=4, gamma=0.1, kernel=rbf ............................\n",
      "[CV]  C=1, degree=4, gamma=0.1, kernel=rbf, score=0.955, total=   0.0s\n",
      "[CV] C=1, degree=4, gamma=0.1, kernel=rbf ............................\n",
      "[CV]  C=1, degree=4, gamma=0.1, kernel=rbf, score=0.977, total=   0.0s\n",
      "[CV] C=1, degree=4, gamma=0.1, kernel=poly ...........................\n",
      "[CV]  C=1, degree=4, gamma=0.1, kernel=poly, score=0.774, total=   0.0s\n",
      "[CV] C=1, degree=4, gamma=0.1, kernel=poly ...........................\n",
      "[CV]  C=1, degree=4, gamma=0.1, kernel=poly, score=0.782, total=   0.0s\n",
      "[CV] C=1, degree=4, gamma=0.1, kernel=poly ...........................\n",
      "[CV]  C=1, degree=4, gamma=0.1, kernel=poly, score=0.818, total=   0.0s\n",
      "[CV] C=1, degree=4, gamma=0.01, kernel=rbf ...........................\n",
      "[CV]  C=1, degree=4, gamma=0.01, kernel=rbf, score=0.970, total=   0.0s\n",
      "[CV] C=1, degree=4, gamma=0.01, kernel=rbf ...........................\n",
      "[CV]  C=1, degree=4, gamma=0.01, kernel=rbf, score=0.985, total=   0.0s\n",
      "[CV] C=1, degree=4, gamma=0.01, kernel=rbf ...........................\n",
      "[CV]  C=1, degree=4, gamma=0.01, kernel=rbf, score=0.977, total=   0.0s\n",
      "[CV] C=1, degree=4, gamma=0.01, kernel=poly ..........................\n",
      "[CV]  C=1, degree=4, gamma=0.01, kernel=poly, score=0.677, total=   0.0s\n",
      "[CV] C=1, degree=4, gamma=0.01, kernel=poly ..........................\n",
      "[CV]  C=1, degree=4, gamma=0.01, kernel=poly, score=0.684, total=   0.0s\n",
      "[CV] C=1, degree=4, gamma=0.01, kernel=poly ..........................\n",
      "[CV]  C=1, degree=4, gamma=0.01, kernel=poly, score=0.682, total=   0.0s\n",
      "[CV] C=1, degree=4, gamma=0.001, kernel=rbf ..........................\n",
      "[CV]  C=1, degree=4, gamma=0.001, kernel=rbf, score=0.917, total=   0.0s\n",
      "[CV] C=1, degree=4, gamma=0.001, kernel=rbf ..........................\n",
      "[CV]  C=1, degree=4, gamma=0.001, kernel=rbf, score=0.977, total=   0.0s\n",
      "[CV] C=1, degree=4, gamma=0.001, kernel=rbf ..........................\n",
      "[CV]  C=1, degree=4, gamma=0.001, kernel=rbf, score=0.970, total=   0.0s\n",
      "[CV] C=1, degree=4, gamma=0.001, kernel=poly .........................\n",
      "[CV]  C=1, degree=4, gamma=0.001, kernel=poly, score=0.632, total=   0.0s\n",
      "[CV] C=1, degree=4, gamma=0.001, kernel=poly .........................\n",
      "[CV]  C=1, degree=4, gamma=0.001, kernel=poly, score=0.632, total=   0.0s\n",
      "[CV] C=1, degree=4, gamma=0.001, kernel=poly .........................\n",
      "[CV]  C=1, degree=4, gamma=0.001, kernel=poly, score=0.636, total=   0.0s\n",
      "[CV] C=1, degree=4, gamma=0.0001, kernel=rbf .........................\n",
      "[CV]  C=1, degree=4, gamma=0.0001, kernel=rbf, score=0.662, total=   0.0s\n",
      "[CV] C=1, degree=4, gamma=0.0001, kernel=rbf .........................\n",
      "[CV]  C=1, degree=4, gamma=0.0001, kernel=rbf, score=0.662, total=   0.0s\n",
      "[CV] C=1, degree=4, gamma=0.0001, kernel=rbf .........................\n",
      "[CV]  C=1, degree=4, gamma=0.0001, kernel=rbf, score=0.682, total=   0.0s\n",
      "[CV] C=1, degree=4, gamma=0.0001, kernel=poly ........................\n",
      "[CV]  C=1, degree=4, gamma=0.0001, kernel=poly, score=0.632, total=   0.0s\n",
      "[CV] C=1, degree=4, gamma=0.0001, kernel=poly ........................\n",
      "[CV]  C=1, degree=4, gamma=0.0001, kernel=poly, score=0.632, total=   0.0s\n",
      "[CV] C=1, degree=4, gamma=0.0001, kernel=poly ........................\n",
      "[CV]  C=1, degree=4, gamma=0.0001, kernel=poly, score=0.636, total=   0.0s\n",
      "[CV] C=1, degree=5, gamma=0.1, kernel=rbf ............................\n",
      "[CV]  C=1, degree=5, gamma=0.1, kernel=rbf, score=0.932, total=   0.0s\n",
      "[CV] C=1, degree=5, gamma=0.1, kernel=rbf ............................\n",
      "[CV]  C=1, degree=5, gamma=0.1, kernel=rbf, score=0.955, total=   0.0s\n",
      "[CV] C=1, degree=5, gamma=0.1, kernel=rbf ............................\n",
      "[CV]  C=1, degree=5, gamma=0.1, kernel=rbf, score=0.977, total=   0.0s\n",
      "[CV] C=1, degree=5, gamma=0.1, kernel=poly ...........................\n",
      "[CV]  C=1, degree=5, gamma=0.1, kernel=poly, score=0.887, total=   0.0s\n",
      "[CV] C=1, degree=5, gamma=0.1, kernel=poly ...........................\n",
      "[CV]  C=1, degree=5, gamma=0.1, kernel=poly, score=0.962, total=   0.0s\n",
      "[CV] C=1, degree=5, gamma=0.1, kernel=poly ...........................\n",
      "[CV]  C=1, degree=5, gamma=0.1, kernel=poly, score=0.932, total=   0.0s\n",
      "[CV] C=1, degree=5, gamma=0.01, kernel=rbf ...........................\n",
      "[CV]  C=1, degree=5, gamma=0.01, kernel=rbf, score=0.970, total=   0.0s\n",
      "[CV] C=1, degree=5, gamma=0.01, kernel=rbf ...........................\n",
      "[CV]  C=1, degree=5, gamma=0.01, kernel=rbf, score=0.985, total=   0.0s\n",
      "[CV] C=1, degree=5, gamma=0.01, kernel=rbf ...........................\n",
      "[CV]  C=1, degree=5, gamma=0.01, kernel=rbf, score=0.977, total=   0.0s\n",
      "[CV] C=1, degree=5, gamma=0.01, kernel=poly ..........................\n",
      "[CV]  C=1, degree=5, gamma=0.01, kernel=poly, score=0.669, total=   0.0s\n",
      "[CV] C=1, degree=5, gamma=0.01, kernel=poly ..........................\n",
      "[CV]  C=1, degree=5, gamma=0.01, kernel=poly, score=0.692, total=   0.0s\n",
      "[CV] C=1, degree=5, gamma=0.01, kernel=poly ..........................\n",
      "[CV]  C=1, degree=5, gamma=0.01, kernel=poly, score=0.682, total=   0.0s\n",
      "[CV] C=1, degree=5, gamma=0.001, kernel=rbf ..........................\n",
      "[CV]  C=1, degree=5, gamma=0.001, kernel=rbf, score=0.917, total=   0.0s\n",
      "[CV] C=1, degree=5, gamma=0.001, kernel=rbf ..........................\n",
      "[CV]  C=1, degree=5, gamma=0.001, kernel=rbf, score=0.977, total=   0.0s\n",
      "[CV] C=1, degree=5, gamma=0.001, kernel=rbf ..........................\n",
      "[CV]  C=1, degree=5, gamma=0.001, kernel=rbf, score=0.970, total=   0.0s\n",
      "[CV] C=1, degree=5, gamma=0.001, kernel=poly .........................\n",
      "[CV]  C=1, degree=5, gamma=0.001, kernel=poly, score=0.632, total=   0.0s\n",
      "[CV] C=1, degree=5, gamma=0.001, kernel=poly .........................\n",
      "[CV]  C=1, degree=5, gamma=0.001, kernel=poly, score=0.632, total=   0.0s\n",
      "[CV] C=1, degree=5, gamma=0.001, kernel=poly .........................\n",
      "[CV]  C=1, degree=5, gamma=0.001, kernel=poly, score=0.636, total=   0.0s\n",
      "[CV] C=1, degree=5, gamma=0.0001, kernel=rbf .........................\n",
      "[CV]  C=1, degree=5, gamma=0.0001, kernel=rbf, score=0.662, total=   0.0s\n",
      "[CV] C=1, degree=5, gamma=0.0001, kernel=rbf .........................\n",
      "[CV]  C=1, degree=5, gamma=0.0001, kernel=rbf, score=0.662, total=   0.0s\n",
      "[CV] C=1, degree=5, gamma=0.0001, kernel=rbf .........................\n",
      "[CV]  C=1, degree=5, gamma=0.0001, kernel=rbf, score=0.682, total=   0.0s\n",
      "[CV] C=1, degree=5, gamma=0.0001, kernel=poly ........................\n",
      "[CV]  C=1, degree=5, gamma=0.0001, kernel=poly, score=0.632, total=   0.0s\n",
      "[CV] C=1, degree=5, gamma=0.0001, kernel=poly ........................\n",
      "[CV]  C=1, degree=5, gamma=0.0001, kernel=poly, score=0.632, total=   0.0s\n",
      "[CV] C=1, degree=5, gamma=0.0001, kernel=poly ........................\n"
     ]
    },
    {
     "name": "stdout",
     "output_type": "stream",
     "text": [
      "[CV]  C=1, degree=5, gamma=0.0001, kernel=poly, score=0.636, total=   0.0s\n",
      "[CV] C=1, degree=6, gamma=0.1, kernel=rbf ............................\n",
      "[CV]  C=1, degree=6, gamma=0.1, kernel=rbf, score=0.932, total=   0.0s\n",
      "[CV] C=1, degree=6, gamma=0.1, kernel=rbf ............................\n",
      "[CV]  C=1, degree=6, gamma=0.1, kernel=rbf, score=0.955, total=   0.0s\n",
      "[CV] C=1, degree=6, gamma=0.1, kernel=rbf ............................\n",
      "[CV]  C=1, degree=6, gamma=0.1, kernel=rbf, score=0.977, total=   0.0s\n",
      "[CV] C=1, degree=6, gamma=0.1, kernel=poly ...........................\n",
      "[CV]  C=1, degree=6, gamma=0.1, kernel=poly, score=0.707, total=   0.0s\n",
      "[CV] C=1, degree=6, gamma=0.1, kernel=poly ...........................\n",
      "[CV]  C=1, degree=6, gamma=0.1, kernel=poly, score=0.737, total=   0.0s\n",
      "[CV] C=1, degree=6, gamma=0.1, kernel=poly ...........................\n",
      "[CV]  C=1, degree=6, gamma=0.1, kernel=poly, score=0.795, total=   0.0s\n",
      "[CV] C=1, degree=6, gamma=0.01, kernel=rbf ...........................\n",
      "[CV]  C=1, degree=6, gamma=0.01, kernel=rbf, score=0.970, total=   0.0s\n",
      "[CV] C=1, degree=6, gamma=0.01, kernel=rbf ...........................\n",
      "[CV]  C=1, degree=6, gamma=0.01, kernel=rbf, score=0.985, total=   0.0s\n",
      "[CV] C=1, degree=6, gamma=0.01, kernel=rbf ...........................\n",
      "[CV]  C=1, degree=6, gamma=0.01, kernel=rbf, score=0.977, total=   0.0s\n",
      "[CV] C=1, degree=6, gamma=0.01, kernel=poly ..........................\n",
      "[CV]  C=1, degree=6, gamma=0.01, kernel=poly, score=0.669, total=   0.0s\n",
      "[CV] C=1, degree=6, gamma=0.01, kernel=poly ..........................\n",
      "[CV]  C=1, degree=6, gamma=0.01, kernel=poly, score=0.662, total=   0.0s\n",
      "[CV] C=1, degree=6, gamma=0.01, kernel=poly ..........................\n",
      "[CV]  C=1, degree=6, gamma=0.01, kernel=poly, score=0.682, total=   0.0s\n",
      "[CV] C=1, degree=6, gamma=0.001, kernel=rbf ..........................\n",
      "[CV]  C=1, degree=6, gamma=0.001, kernel=rbf, score=0.917, total=   0.0s\n",
      "[CV] C=1, degree=6, gamma=0.001, kernel=rbf ..........................\n",
      "[CV]  C=1, degree=6, gamma=0.001, kernel=rbf, score=0.977, total=   0.0s\n",
      "[CV] C=1, degree=6, gamma=0.001, kernel=rbf ..........................\n",
      "[CV]  C=1, degree=6, gamma=0.001, kernel=rbf, score=0.970, total=   0.0s\n",
      "[CV] C=1, degree=6, gamma=0.001, kernel=poly .........................\n",
      "[CV]  C=1, degree=6, gamma=0.001, kernel=poly, score=0.632, total=   0.0s\n",
      "[CV] C=1, degree=6, gamma=0.001, kernel=poly .........................\n",
      "[CV]  C=1, degree=6, gamma=0.001, kernel=poly, score=0.632, total=   0.0s\n",
      "[CV] C=1, degree=6, gamma=0.001, kernel=poly .........................\n",
      "[CV]  C=1, degree=6, gamma=0.001, kernel=poly, score=0.636, total=   0.0s\n",
      "[CV] C=1, degree=6, gamma=0.0001, kernel=rbf .........................\n",
      "[CV]  C=1, degree=6, gamma=0.0001, kernel=rbf, score=0.662, total=   0.0s\n",
      "[CV] C=1, degree=6, gamma=0.0001, kernel=rbf .........................\n",
      "[CV]  C=1, degree=6, gamma=0.0001, kernel=rbf, score=0.662, total=   0.0s\n",
      "[CV] C=1, degree=6, gamma=0.0001, kernel=rbf .........................\n",
      "[CV]  C=1, degree=6, gamma=0.0001, kernel=rbf, score=0.682, total=   0.0s\n",
      "[CV] C=1, degree=6, gamma=0.0001, kernel=poly ........................\n",
      "[CV]  C=1, degree=6, gamma=0.0001, kernel=poly, score=0.632, total=   0.0s\n",
      "[CV] C=1, degree=6, gamma=0.0001, kernel=poly ........................\n",
      "[CV]  C=1, degree=6, gamma=0.0001, kernel=poly, score=0.632, total=   0.0s\n",
      "[CV] C=1, degree=6, gamma=0.0001, kernel=poly ........................\n",
      "[CV]  C=1, degree=6, gamma=0.0001, kernel=poly, score=0.636, total=   0.0s\n",
      "[CV] C=1, degree=7, gamma=0.1, kernel=rbf ............................\n",
      "[CV]  C=1, degree=7, gamma=0.1, kernel=rbf, score=0.932, total=   0.0s\n",
      "[CV] C=1, degree=7, gamma=0.1, kernel=rbf ............................\n",
      "[CV]  C=1, degree=7, gamma=0.1, kernel=rbf, score=0.955, total=   0.0s\n",
      "[CV] C=1, degree=7, gamma=0.1, kernel=rbf ............................\n",
      "[CV]  C=1, degree=7, gamma=0.1, kernel=rbf, score=0.977, total=   0.0s\n",
      "[CV] C=1, degree=7, gamma=0.1, kernel=poly ...........................\n",
      "[CV]  C=1, degree=7, gamma=0.1, kernel=poly, score=0.865, total=   0.0s\n",
      "[CV] C=1, degree=7, gamma=0.1, kernel=poly ...........................\n",
      "[CV]  C=1, degree=7, gamma=0.1, kernel=poly, score=0.932, total=   0.0s\n",
      "[CV] C=1, degree=7, gamma=0.1, kernel=poly ...........................\n",
      "[CV]  C=1, degree=7, gamma=0.1, kernel=poly, score=0.917, total=   0.0s\n",
      "[CV] C=1, degree=7, gamma=0.01, kernel=rbf ...........................\n",
      "[CV]  C=1, degree=7, gamma=0.01, kernel=rbf, score=0.970, total=   0.0s\n",
      "[CV] C=1, degree=7, gamma=0.01, kernel=rbf ...........................\n",
      "[CV]  C=1, degree=7, gamma=0.01, kernel=rbf, score=0.985, total=   0.0s\n",
      "[CV] C=1, degree=7, gamma=0.01, kernel=rbf ...........................\n",
      "[CV]  C=1, degree=7, gamma=0.01, kernel=rbf, score=0.977, total=   0.0s\n",
      "[CV] C=1, degree=7, gamma=0.01, kernel=poly ..........................\n",
      "[CV]  C=1, degree=7, gamma=0.01, kernel=poly, score=0.662, total=   0.0s\n",
      "[CV] C=1, degree=7, gamma=0.01, kernel=poly ..........................\n",
      "[CV]  C=1, degree=7, gamma=0.01, kernel=poly, score=0.654, total=   0.0s\n",
      "[CV] C=1, degree=7, gamma=0.01, kernel=poly ..........................\n",
      "[CV]  C=1, degree=7, gamma=0.01, kernel=poly, score=0.682, total=   0.0s\n",
      "[CV] C=1, degree=7, gamma=0.001, kernel=rbf ..........................\n",
      "[CV]  C=1, degree=7, gamma=0.001, kernel=rbf, score=0.917, total=   0.0s\n",
      "[CV] C=1, degree=7, gamma=0.001, kernel=rbf ..........................\n",
      "[CV]  C=1, degree=7, gamma=0.001, kernel=rbf, score=0.977, total=   0.0s\n",
      "[CV] C=1, degree=7, gamma=0.001, kernel=rbf ..........................\n",
      "[CV]  C=1, degree=7, gamma=0.001, kernel=rbf, score=0.970, total=   0.0s\n",
      "[CV] C=1, degree=7, gamma=0.001, kernel=poly .........................\n",
      "[CV]  C=1, degree=7, gamma=0.001, kernel=poly, score=0.632, total=   0.0s\n",
      "[CV] C=1, degree=7, gamma=0.001, kernel=poly .........................\n",
      "[CV]  C=1, degree=7, gamma=0.001, kernel=poly, score=0.632, total=   0.0s\n",
      "[CV] C=1, degree=7, gamma=0.001, kernel=poly .........................\n",
      "[CV]  C=1, degree=7, gamma=0.001, kernel=poly, score=0.636, total=   0.0s\n",
      "[CV] C=1, degree=7, gamma=0.0001, kernel=rbf .........................\n",
      "[CV]  C=1, degree=7, gamma=0.0001, kernel=rbf, score=0.662, total=   0.0s\n",
      "[CV] C=1, degree=7, gamma=0.0001, kernel=rbf .........................\n",
      "[CV]  C=1, degree=7, gamma=0.0001, kernel=rbf, score=0.662, total=   0.0s\n",
      "[CV] C=1, degree=7, gamma=0.0001, kernel=rbf .........................\n",
      "[CV]  C=1, degree=7, gamma=0.0001, kernel=rbf, score=0.682, total=   0.0s\n",
      "[CV] C=1, degree=7, gamma=0.0001, kernel=poly ........................\n",
      "[CV]  C=1, degree=7, gamma=0.0001, kernel=poly, score=0.632, total=   0.0s\n",
      "[CV] C=1, degree=7, gamma=0.0001, kernel=poly ........................\n",
      "[CV]  C=1, degree=7, gamma=0.0001, kernel=poly, score=0.632, total=   0.0s\n",
      "[CV] C=1, degree=7, gamma=0.0001, kernel=poly ........................\n",
      "[CV]  C=1, degree=7, gamma=0.0001, kernel=poly, score=0.636, total=   0.0s\n",
      "[CV] C=10, degree=3, gamma=0.1, kernel=rbf ...........................\n",
      "[CV]  C=10, degree=3, gamma=0.1, kernel=rbf, score=0.932, total=   0.0s\n",
      "[CV] C=10, degree=3, gamma=0.1, kernel=rbf ...........................\n",
      "[CV]  C=10, degree=3, gamma=0.1, kernel=rbf, score=0.962, total=   0.0s\n",
      "[CV] C=10, degree=3, gamma=0.1, kernel=rbf ...........................\n",
      "[CV]  C=10, degree=3, gamma=0.1, kernel=rbf, score=0.985, total=   0.0s\n",
      "[CV] C=10, degree=3, gamma=0.1, kernel=poly ..........................\n",
      "[CV]  C=10, degree=3, gamma=0.1, kernel=poly, score=0.925, total=   0.0s\n",
      "[CV] C=10, degree=3, gamma=0.1, kernel=poly ..........................\n",
      "[CV]  C=10, degree=3, gamma=0.1, kernel=poly, score=0.932, total=   0.0s\n",
      "[CV] C=10, degree=3, gamma=0.1, kernel=poly ..........................\n",
      "[CV]  C=10, degree=3, gamma=0.1, kernel=poly, score=0.962, total=   0.0s\n",
      "[CV] C=10, degree=3, gamma=0.01, kernel=rbf ..........................\n",
      "[CV]  C=10, degree=3, gamma=0.01, kernel=rbf, score=0.962, total=   0.0s\n",
      "[CV] C=10, degree=3, gamma=0.01, kernel=rbf ..........................\n",
      "[CV]  C=10, degree=3, gamma=0.01, kernel=rbf, score=0.985, total=   0.0s\n",
      "[CV] C=10, degree=3, gamma=0.01, kernel=rbf ..........................\n",
      "[CV]  C=10, degree=3, gamma=0.01, kernel=rbf, score=0.977, total=   0.0s\n",
      "[CV] C=10, degree=3, gamma=0.01, kernel=poly .........................\n",
      "[CV]  C=10, degree=3, gamma=0.01, kernel=poly, score=0.812, total=   0.0s\n",
      "[CV] C=10, degree=3, gamma=0.01, kernel=poly .........................\n",
      "[CV]  C=10, degree=3, gamma=0.01, kernel=poly, score=0.880, total=   0.0s\n",
      "[CV] C=10, degree=3, gamma=0.01, kernel=poly .........................\n",
      "[CV]  C=10, degree=3, gamma=0.01, kernel=poly, score=0.856, total=   0.0s\n",
      "[CV] C=10, degree=3, gamma=0.001, kernel=rbf .........................\n",
      "[CV]  C=10, degree=3, gamma=0.001, kernel=rbf, score=0.970, total=   0.0s\n",
      "[CV] C=10, degree=3, gamma=0.001, kernel=rbf .........................\n",
      "[CV]  C=10, degree=3, gamma=0.001, kernel=rbf, score=0.992, total=   0.0s\n",
      "[CV] C=10, degree=3, gamma=0.001, kernel=rbf .........................\n",
      "[CV]  C=10, degree=3, gamma=0.001, kernel=rbf, score=0.977, total=   0.0s\n",
      "[CV] C=10, degree=3, gamma=0.001, kernel=poly ........................\n",
      "[CV]  C=10, degree=3, gamma=0.001, kernel=poly, score=0.632, total=   0.0s\n",
      "[CV] C=10, degree=3, gamma=0.001, kernel=poly ........................\n",
      "[CV]  C=10, degree=3, gamma=0.001, kernel=poly, score=0.632, total=   0.0s\n",
      "[CV] C=10, degree=3, gamma=0.001, kernel=poly ........................\n",
      "[CV]  C=10, degree=3, gamma=0.001, kernel=poly, score=0.636, total=   0.0s\n",
      "[CV] C=10, degree=3, gamma=0.0001, kernel=rbf ........................\n",
      "[CV]  C=10, degree=3, gamma=0.0001, kernel=rbf, score=0.917, total=   0.0s\n",
      "[CV] C=10, degree=3, gamma=0.0001, kernel=rbf ........................\n",
      "[CV]  C=10, degree=3, gamma=0.0001, kernel=rbf, score=0.977, total=   0.0s\n",
      "[CV] C=10, degree=3, gamma=0.0001, kernel=rbf ........................\n",
      "[CV]  C=10, degree=3, gamma=0.0001, kernel=rbf, score=0.962, total=   0.0s\n",
      "[CV] C=10, degree=3, gamma=0.0001, kernel=poly .......................\n",
      "[CV]  C=10, degree=3, gamma=0.0001, kernel=poly, score=0.632, total=   0.0s\n",
      "[CV] C=10, degree=3, gamma=0.0001, kernel=poly .......................\n",
      "[CV]  C=10, degree=3, gamma=0.0001, kernel=poly, score=0.632, total=   0.0s\n",
      "[CV] C=10, degree=3, gamma=0.0001, kernel=poly .......................\n",
      "[CV]  C=10, degree=3, gamma=0.0001, kernel=poly, score=0.636, total=   0.0s\n",
      "[CV] C=10, degree=4, gamma=0.1, kernel=rbf ...........................\n",
      "[CV]  C=10, degree=4, gamma=0.1, kernel=rbf, score=0.932, total=   0.0s\n",
      "[CV] C=10, degree=4, gamma=0.1, kernel=rbf ...........................\n",
      "[CV]  C=10, degree=4, gamma=0.1, kernel=rbf, score=0.962, total=   0.0s\n",
      "[CV] C=10, degree=4, gamma=0.1, kernel=rbf ...........................\n",
      "[CV]  C=10, degree=4, gamma=0.1, kernel=rbf, score=0.985, total=   0.0s\n",
      "[CV] C=10, degree=4, gamma=0.1, kernel=poly ..........................\n",
      "[CV]  C=10, degree=4, gamma=0.1, kernel=poly, score=0.759, total=   0.0s\n",
      "[CV] C=10, degree=4, gamma=0.1, kernel=poly ..........................\n",
      "[CV]  C=10, degree=4, gamma=0.1, kernel=poly, score=0.789, total=   0.0s\n",
      "[CV] C=10, degree=4, gamma=0.1, kernel=poly ..........................\n",
      "[CV]  C=10, degree=4, gamma=0.1, kernel=poly, score=0.758, total=   0.0s\n",
      "[CV] C=10, degree=4, gamma=0.01, kernel=rbf ..........................\n"
     ]
    },
    {
     "name": "stdout",
     "output_type": "stream",
     "text": [
      "[CV]  C=10, degree=4, gamma=0.01, kernel=rbf, score=0.962, total=   0.0s\n",
      "[CV] C=10, degree=4, gamma=0.01, kernel=rbf ..........................\n",
      "[CV]  C=10, degree=4, gamma=0.01, kernel=rbf, score=0.985, total=   0.0s\n",
      "[CV] C=10, degree=4, gamma=0.01, kernel=rbf ..........................\n",
      "[CV]  C=10, degree=4, gamma=0.01, kernel=rbf, score=0.977, total=   0.0s\n",
      "[CV] C=10, degree=4, gamma=0.01, kernel=poly .........................\n",
      "[CV]  C=10, degree=4, gamma=0.01, kernel=poly, score=0.714, total=   0.0s\n",
      "[CV] C=10, degree=4, gamma=0.01, kernel=poly .........................\n",
      "[CV]  C=10, degree=4, gamma=0.01, kernel=poly, score=0.737, total=   0.0s\n",
      "[CV] C=10, degree=4, gamma=0.01, kernel=poly .........................\n",
      "[CV]  C=10, degree=4, gamma=0.01, kernel=poly, score=0.720, total=   0.0s\n",
      "[CV] C=10, degree=4, gamma=0.001, kernel=rbf .........................\n",
      "[CV]  C=10, degree=4, gamma=0.001, kernel=rbf, score=0.970, total=   0.0s\n",
      "[CV] C=10, degree=4, gamma=0.001, kernel=rbf .........................\n",
      "[CV]  C=10, degree=4, gamma=0.001, kernel=rbf, score=0.992, total=   0.0s\n",
      "[CV] C=10, degree=4, gamma=0.001, kernel=rbf .........................\n",
      "[CV]  C=10, degree=4, gamma=0.001, kernel=rbf, score=0.977, total=   0.0s\n",
      "[CV] C=10, degree=4, gamma=0.001, kernel=poly ........................\n",
      "[CV]  C=10, degree=4, gamma=0.001, kernel=poly, score=0.632, total=   0.0s\n",
      "[CV] C=10, degree=4, gamma=0.001, kernel=poly ........................\n",
      "[CV]  C=10, degree=4, gamma=0.001, kernel=poly, score=0.632, total=   0.0s\n",
      "[CV] C=10, degree=4, gamma=0.001, kernel=poly ........................\n",
      "[CV]  C=10, degree=4, gamma=0.001, kernel=poly, score=0.636, total=   0.0s\n",
      "[CV] C=10, degree=4, gamma=0.0001, kernel=rbf ........................\n",
      "[CV]  C=10, degree=4, gamma=0.0001, kernel=rbf, score=0.917, total=   0.0s\n",
      "[CV] C=10, degree=4, gamma=0.0001, kernel=rbf ........................\n",
      "[CV]  C=10, degree=4, gamma=0.0001, kernel=rbf, score=0.977, total=   0.0s\n",
      "[CV] C=10, degree=4, gamma=0.0001, kernel=rbf ........................\n",
      "[CV]  C=10, degree=4, gamma=0.0001, kernel=rbf, score=0.962, total=   0.0s\n",
      "[CV] C=10, degree=4, gamma=0.0001, kernel=poly .......................\n",
      "[CV]  C=10, degree=4, gamma=0.0001, kernel=poly, score=0.632, total=   0.0s\n",
      "[CV] C=10, degree=4, gamma=0.0001, kernel=poly .......................\n",
      "[CV]  C=10, degree=4, gamma=0.0001, kernel=poly, score=0.632, total=   0.0s\n",
      "[CV] C=10, degree=4, gamma=0.0001, kernel=poly .......................\n",
      "[CV]  C=10, degree=4, gamma=0.0001, kernel=poly, score=0.636, total=   0.0s\n",
      "[CV] C=10, degree=5, gamma=0.1, kernel=rbf ...........................\n",
      "[CV]  C=10, degree=5, gamma=0.1, kernel=rbf, score=0.932, total=   0.0s\n",
      "[CV] C=10, degree=5, gamma=0.1, kernel=rbf ...........................\n",
      "[CV]  C=10, degree=5, gamma=0.1, kernel=rbf, score=0.962, total=   0.0s\n",
      "[CV] C=10, degree=5, gamma=0.1, kernel=rbf ...........................\n",
      "[CV]  C=10, degree=5, gamma=0.1, kernel=rbf, score=0.985, total=   0.0s\n",
      "[CV] C=10, degree=5, gamma=0.1, kernel=poly ..........................\n",
      "[CV]  C=10, degree=5, gamma=0.1, kernel=poly, score=0.865, total=   0.0s\n",
      "[CV] C=10, degree=5, gamma=0.1, kernel=poly ..........................\n",
      "[CV]  C=10, degree=5, gamma=0.1, kernel=poly, score=0.925, total=   0.0s\n",
      "[CV] C=10, degree=5, gamma=0.1, kernel=poly ..........................\n",
      "[CV]  C=10, degree=5, gamma=0.1, kernel=poly, score=0.917, total=   0.0s\n",
      "[CV] C=10, degree=5, gamma=0.01, kernel=rbf ..........................\n",
      "[CV]  C=10, degree=5, gamma=0.01, kernel=rbf, score=0.962, total=   0.0s\n",
      "[CV] C=10, degree=5, gamma=0.01, kernel=rbf ..........................\n",
      "[CV]  C=10, degree=5, gamma=0.01, kernel=rbf, score=0.985, total=   0.0s\n",
      "[CV] C=10, degree=5, gamma=0.01, kernel=rbf ..........................\n",
      "[CV]  C=10, degree=5, gamma=0.01, kernel=rbf, score=0.977, total=   0.0s\n",
      "[CV] C=10, degree=5, gamma=0.01, kernel=poly .........................\n",
      "[CV]  C=10, degree=5, gamma=0.01, kernel=poly, score=0.699, total=   0.0s\n",
      "[CV] C=10, degree=5, gamma=0.01, kernel=poly .........................\n",
      "[CV]  C=10, degree=5, gamma=0.01, kernel=poly, score=0.729, total=   0.0s\n",
      "[CV] C=10, degree=5, gamma=0.01, kernel=poly .........................\n",
      "[CV]  C=10, degree=5, gamma=0.01, kernel=poly, score=0.727, total=   0.0s\n",
      "[CV] C=10, degree=5, gamma=0.001, kernel=rbf .........................\n",
      "[CV]  C=10, degree=5, gamma=0.001, kernel=rbf, score=0.970, total=   0.0s\n",
      "[CV] C=10, degree=5, gamma=0.001, kernel=rbf .........................\n",
      "[CV]  C=10, degree=5, gamma=0.001, kernel=rbf, score=0.992, total=   0.0s\n",
      "[CV] C=10, degree=5, gamma=0.001, kernel=rbf .........................\n",
      "[CV]  C=10, degree=5, gamma=0.001, kernel=rbf, score=0.977, total=   0.0s\n",
      "[CV] C=10, degree=5, gamma=0.001, kernel=poly ........................\n",
      "[CV]  C=10, degree=5, gamma=0.001, kernel=poly, score=0.632, total=   0.0s\n",
      "[CV] C=10, degree=5, gamma=0.001, kernel=poly ........................\n",
      "[CV]  C=10, degree=5, gamma=0.001, kernel=poly, score=0.632, total=   0.0s\n",
      "[CV] C=10, degree=5, gamma=0.001, kernel=poly ........................\n",
      "[CV]  C=10, degree=5, gamma=0.001, kernel=poly, score=0.636, total=   0.0s\n",
      "[CV] C=10, degree=5, gamma=0.0001, kernel=rbf ........................\n",
      "[CV]  C=10, degree=5, gamma=0.0001, kernel=rbf, score=0.917, total=   0.0s\n",
      "[CV] C=10, degree=5, gamma=0.0001, kernel=rbf ........................\n",
      "[CV]  C=10, degree=5, gamma=0.0001, kernel=rbf, score=0.977, total=   0.0s\n",
      "[CV] C=10, degree=5, gamma=0.0001, kernel=rbf ........................\n",
      "[CV]  C=10, degree=5, gamma=0.0001, kernel=rbf, score=0.962, total=   0.0s\n",
      "[CV] C=10, degree=5, gamma=0.0001, kernel=poly .......................\n",
      "[CV]  C=10, degree=5, gamma=0.0001, kernel=poly, score=0.632, total=   0.0s\n",
      "[CV] C=10, degree=5, gamma=0.0001, kernel=poly .......................\n",
      "[CV]  C=10, degree=5, gamma=0.0001, kernel=poly, score=0.632, total=   0.0s\n",
      "[CV] C=10, degree=5, gamma=0.0001, kernel=poly .......................\n",
      "[CV]  C=10, degree=5, gamma=0.0001, kernel=poly, score=0.636, total=   0.0s\n",
      "[CV] C=10, degree=6, gamma=0.1, kernel=rbf ...........................\n",
      "[CV]  C=10, degree=6, gamma=0.1, kernel=rbf, score=0.932, total=   0.0s\n",
      "[CV] C=10, degree=6, gamma=0.1, kernel=rbf ...........................\n",
      "[CV]  C=10, degree=6, gamma=0.1, kernel=rbf, score=0.962, total=   0.0s\n",
      "[CV] C=10, degree=6, gamma=0.1, kernel=rbf ...........................\n",
      "[CV]  C=10, degree=6, gamma=0.1, kernel=rbf, score=0.985, total=   0.0s\n",
      "[CV] C=10, degree=6, gamma=0.1, kernel=poly ..........................\n",
      "[CV]  C=10, degree=6, gamma=0.1, kernel=poly, score=0.707, total=   0.0s\n",
      "[CV] C=10, degree=6, gamma=0.1, kernel=poly ..........................\n",
      "[CV]  C=10, degree=6, gamma=0.1, kernel=poly, score=0.752, total=   0.0s\n",
      "[CV] C=10, degree=6, gamma=0.1, kernel=poly ..........................\n",
      "[CV]  C=10, degree=6, gamma=0.1, kernel=poly, score=0.697, total=   0.0s\n",
      "[CV] C=10, degree=6, gamma=0.01, kernel=rbf ..........................\n",
      "[CV]  C=10, degree=6, gamma=0.01, kernel=rbf, score=0.962, total=   0.0s\n",
      "[CV] C=10, degree=6, gamma=0.01, kernel=rbf ..........................\n",
      "[CV]  C=10, degree=6, gamma=0.01, kernel=rbf, score=0.985, total=   0.0s\n",
      "[CV] C=10, degree=6, gamma=0.01, kernel=rbf ..........................\n",
      "[CV]  C=10, degree=6, gamma=0.01, kernel=rbf, score=0.977, total=   0.0s\n",
      "[CV] C=10, degree=6, gamma=0.01, kernel=poly .........................\n",
      "[CV]  C=10, degree=6, gamma=0.01, kernel=poly, score=0.677, total=   0.0s\n",
      "[CV] C=10, degree=6, gamma=0.01, kernel=poly .........................\n",
      "[CV]  C=10, degree=6, gamma=0.01, kernel=poly, score=0.699, total=   0.0s\n",
      "[CV] C=10, degree=6, gamma=0.01, kernel=poly .........................\n",
      "[CV]  C=10, degree=6, gamma=0.01, kernel=poly, score=0.689, total=   0.0s\n",
      "[CV] C=10, degree=6, gamma=0.001, kernel=rbf .........................\n",
      "[CV]  C=10, degree=6, gamma=0.001, kernel=rbf, score=0.970, total=   0.0s\n",
      "[CV] C=10, degree=6, gamma=0.001, kernel=rbf .........................\n",
      "[CV]  C=10, degree=6, gamma=0.001, kernel=rbf, score=0.992, total=   0.0s\n",
      "[CV] C=10, degree=6, gamma=0.001, kernel=rbf .........................\n",
      "[CV]  C=10, degree=6, gamma=0.001, kernel=rbf, score=0.977, total=   0.0s\n",
      "[CV] C=10, degree=6, gamma=0.001, kernel=poly ........................\n",
      "[CV]  C=10, degree=6, gamma=0.001, kernel=poly, score=0.632, total=   0.0s\n",
      "[CV] C=10, degree=6, gamma=0.001, kernel=poly ........................\n",
      "[CV]  C=10, degree=6, gamma=0.001, kernel=poly, score=0.632, total=   0.0s\n",
      "[CV] C=10, degree=6, gamma=0.001, kernel=poly ........................\n",
      "[CV]  C=10, degree=6, gamma=0.001, kernel=poly, score=0.636, total=   0.0s\n",
      "[CV] C=10, degree=6, gamma=0.0001, kernel=rbf ........................\n",
      "[CV]  C=10, degree=6, gamma=0.0001, kernel=rbf, score=0.917, total=   0.0s\n",
      "[CV] C=10, degree=6, gamma=0.0001, kernel=rbf ........................\n",
      "[CV]  C=10, degree=6, gamma=0.0001, kernel=rbf, score=0.977, total=   0.0s\n",
      "[CV] C=10, degree=6, gamma=0.0001, kernel=rbf ........................\n",
      "[CV]  C=10, degree=6, gamma=0.0001, kernel=rbf, score=0.962, total=   0.0s\n",
      "[CV] C=10, degree=6, gamma=0.0001, kernel=poly .......................\n",
      "[CV]  C=10, degree=6, gamma=0.0001, kernel=poly, score=0.632, total=   0.0s\n",
      "[CV] C=10, degree=6, gamma=0.0001, kernel=poly .......................\n",
      "[CV]  C=10, degree=6, gamma=0.0001, kernel=poly, score=0.632, total=   0.0s\n",
      "[CV] C=10, degree=6, gamma=0.0001, kernel=poly .......................\n",
      "[CV]  C=10, degree=6, gamma=0.0001, kernel=poly, score=0.636, total=   0.0s\n",
      "[CV] C=10, degree=7, gamma=0.1, kernel=rbf ...........................\n",
      "[CV]  C=10, degree=7, gamma=0.1, kernel=rbf, score=0.932, total=   0.0s\n",
      "[CV] C=10, degree=7, gamma=0.1, kernel=rbf ...........................\n",
      "[CV]  C=10, degree=7, gamma=0.1, kernel=rbf, score=0.962, total=   0.0s\n",
      "[CV] C=10, degree=7, gamma=0.1, kernel=rbf ...........................\n",
      "[CV]  C=10, degree=7, gamma=0.1, kernel=rbf, score=0.985, total=   0.0s\n",
      "[CV] C=10, degree=7, gamma=0.1, kernel=poly ..........................\n",
      "[CV]  C=10, degree=7, gamma=0.1, kernel=poly, score=0.857, total=   0.0s\n",
      "[CV] C=10, degree=7, gamma=0.1, kernel=poly ..........................\n",
      "[CV]  C=10, degree=7, gamma=0.1, kernel=poly, score=0.917, total=   0.0s\n",
      "[CV] C=10, degree=7, gamma=0.1, kernel=poly ..........................\n",
      "[CV]  C=10, degree=7, gamma=0.1, kernel=poly, score=0.902, total=   0.0s\n",
      "[CV] C=10, degree=7, gamma=0.01, kernel=rbf ..........................\n",
      "[CV]  C=10, degree=7, gamma=0.01, kernel=rbf, score=0.962, total=   0.0s\n",
      "[CV] C=10, degree=7, gamma=0.01, kernel=rbf ..........................\n",
      "[CV]  C=10, degree=7, gamma=0.01, kernel=rbf, score=0.985, total=   0.0s\n",
      "[CV] C=10, degree=7, gamma=0.01, kernel=rbf ..........................\n",
      "[CV]  C=10, degree=7, gamma=0.01, kernel=rbf, score=0.977, total=   0.0s\n",
      "[CV] C=10, degree=7, gamma=0.01, kernel=poly .........................\n",
      "[CV]  C=10, degree=7, gamma=0.01, kernel=poly, score=0.677, total=   0.0s\n",
      "[CV] C=10, degree=7, gamma=0.01, kernel=poly .........................\n"
     ]
    },
    {
     "name": "stdout",
     "output_type": "stream",
     "text": [
      "[CV]  C=10, degree=7, gamma=0.01, kernel=poly, score=0.692, total=   0.0s\n",
      "[CV] C=10, degree=7, gamma=0.01, kernel=poly .........................\n",
      "[CV]  C=10, degree=7, gamma=0.01, kernel=poly, score=0.689, total=   0.0s\n",
      "[CV] C=10, degree=7, gamma=0.001, kernel=rbf .........................\n",
      "[CV]  C=10, degree=7, gamma=0.001, kernel=rbf, score=0.970, total=   0.0s\n",
      "[CV] C=10, degree=7, gamma=0.001, kernel=rbf .........................\n",
      "[CV]  C=10, degree=7, gamma=0.001, kernel=rbf, score=0.992, total=   0.0s\n",
      "[CV] C=10, degree=7, gamma=0.001, kernel=rbf .........................\n",
      "[CV]  C=10, degree=7, gamma=0.001, kernel=rbf, score=0.977, total=   0.0s\n",
      "[CV] C=10, degree=7, gamma=0.001, kernel=poly ........................\n",
      "[CV]  C=10, degree=7, gamma=0.001, kernel=poly, score=0.632, total=   0.0s\n",
      "[CV] C=10, degree=7, gamma=0.001, kernel=poly ........................\n",
      "[CV]  C=10, degree=7, gamma=0.001, kernel=poly, score=0.632, total=   0.0s\n",
      "[CV] C=10, degree=7, gamma=0.001, kernel=poly ........................\n",
      "[CV]  C=10, degree=7, gamma=0.001, kernel=poly, score=0.636, total=   0.0s\n",
      "[CV] C=10, degree=7, gamma=0.0001, kernel=rbf ........................\n",
      "[CV]  C=10, degree=7, gamma=0.0001, kernel=rbf, score=0.917, total=   0.0s\n",
      "[CV] C=10, degree=7, gamma=0.0001, kernel=rbf ........................\n",
      "[CV]  C=10, degree=7, gamma=0.0001, kernel=rbf, score=0.977, total=   0.0s\n",
      "[CV] C=10, degree=7, gamma=0.0001, kernel=rbf ........................\n",
      "[CV]  C=10, degree=7, gamma=0.0001, kernel=rbf, score=0.962, total=   0.0s\n",
      "[CV] C=10, degree=7, gamma=0.0001, kernel=poly .......................\n",
      "[CV]  C=10, degree=7, gamma=0.0001, kernel=poly, score=0.632, total=   0.0s\n",
      "[CV] C=10, degree=7, gamma=0.0001, kernel=poly .......................\n",
      "[CV]  C=10, degree=7, gamma=0.0001, kernel=poly, score=0.632, total=   0.0s\n",
      "[CV] C=10, degree=7, gamma=0.0001, kernel=poly .......................\n",
      "[CV]  C=10, degree=7, gamma=0.0001, kernel=poly, score=0.636, total=   0.0s\n",
      "[CV] C=100, degree=3, gamma=0.1, kernel=rbf ..........................\n",
      "[CV]  C=100, degree=3, gamma=0.1, kernel=rbf, score=0.932, total=   0.0s\n",
      "[CV] C=100, degree=3, gamma=0.1, kernel=rbf ..........................\n",
      "[CV]  C=100, degree=3, gamma=0.1, kernel=rbf, score=0.962, total=   0.0s\n",
      "[CV] C=100, degree=3, gamma=0.1, kernel=rbf ..........................\n",
      "[CV]  C=100, degree=3, gamma=0.1, kernel=rbf, score=0.985, total=   0.0s\n",
      "[CV] C=100, degree=3, gamma=0.1, kernel=poly .........................\n",
      "[CV]  C=100, degree=3, gamma=0.1, kernel=poly, score=0.925, total=   0.0s\n",
      "[CV] C=100, degree=3, gamma=0.1, kernel=poly .........................\n",
      "[CV]  C=100, degree=3, gamma=0.1, kernel=poly, score=0.932, total=   0.0s\n",
      "[CV] C=100, degree=3, gamma=0.1, kernel=poly .........................\n",
      "[CV]  C=100, degree=3, gamma=0.1, kernel=poly, score=0.955, total=   0.0s\n",
      "[CV] C=100, degree=3, gamma=0.01, kernel=rbf .........................\n",
      "[CV]  C=100, degree=3, gamma=0.01, kernel=rbf, score=0.977, total=   0.0s\n",
      "[CV] C=100, degree=3, gamma=0.01, kernel=rbf .........................\n",
      "[CV]  C=100, degree=3, gamma=0.01, kernel=rbf, score=0.955, total=   0.0s\n",
      "[CV] C=100, degree=3, gamma=0.01, kernel=rbf .........................\n",
      "[CV]  C=100, degree=3, gamma=0.01, kernel=rbf, score=0.955, total=   0.0s\n",
      "[CV] C=100, degree=3, gamma=0.01, kernel=poly ........................\n",
      "[CV]  C=100, degree=3, gamma=0.01, kernel=poly, score=0.887, total=   0.0s\n",
      "[CV] C=100, degree=3, gamma=0.01, kernel=poly ........................\n",
      "[CV]  C=100, degree=3, gamma=0.01, kernel=poly, score=0.970, total=   0.0s\n",
      "[CV] C=100, degree=3, gamma=0.01, kernel=poly ........................\n",
      "[CV]  C=100, degree=3, gamma=0.01, kernel=poly, score=0.909, total=   0.0s\n",
      "[CV] C=100, degree=3, gamma=0.001, kernel=rbf ........................\n",
      "[CV]  C=100, degree=3, gamma=0.001, kernel=rbf, score=0.962, total=   0.0s\n",
      "[CV] C=100, degree=3, gamma=0.001, kernel=rbf ........................\n",
      "[CV]  C=100, degree=3, gamma=0.001, kernel=rbf, score=0.992, total=   0.0s\n",
      "[CV] C=100, degree=3, gamma=0.001, kernel=rbf ........................\n",
      "[CV]  C=100, degree=3, gamma=0.001, kernel=rbf, score=0.985, total=   0.0s\n",
      "[CV] C=100, degree=3, gamma=0.001, kernel=poly .......................\n",
      "[CV]  C=100, degree=3, gamma=0.001, kernel=poly, score=0.654, total=   0.0s\n",
      "[CV] C=100, degree=3, gamma=0.001, kernel=poly .......................\n",
      "[CV]  C=100, degree=3, gamma=0.001, kernel=poly, score=0.654, total=   0.0s\n",
      "[CV] C=100, degree=3, gamma=0.001, kernel=poly .......................\n",
      "[CV]  C=100, degree=3, gamma=0.001, kernel=poly, score=0.667, total=   0.0s\n",
      "[CV] C=100, degree=3, gamma=0.0001, kernel=rbf .......................\n",
      "[CV]  C=100, degree=3, gamma=0.0001, kernel=rbf, score=0.970, total=   0.0s\n",
      "[CV] C=100, degree=3, gamma=0.0001, kernel=rbf .......................\n",
      "[CV]  C=100, degree=3, gamma=0.0001, kernel=rbf, score=0.992, total=   0.0s\n",
      "[CV] C=100, degree=3, gamma=0.0001, kernel=rbf .......................\n",
      "[CV]  C=100, degree=3, gamma=0.0001, kernel=rbf, score=0.985, total=   0.0s\n",
      "[CV] C=100, degree=3, gamma=0.0001, kernel=poly ......................\n",
      "[CV]  C=100, degree=3, gamma=0.0001, kernel=poly, score=0.632, total=   0.0s\n",
      "[CV] C=100, degree=3, gamma=0.0001, kernel=poly ......................\n",
      "[CV]  C=100, degree=3, gamma=0.0001, kernel=poly, score=0.632, total=   0.0s\n",
      "[CV] C=100, degree=3, gamma=0.0001, kernel=poly ......................\n",
      "[CV]  C=100, degree=3, gamma=0.0001, kernel=poly, score=0.636, total=   0.0s\n",
      "[CV] C=100, degree=4, gamma=0.1, kernel=rbf ..........................\n",
      "[CV]  C=100, degree=4, gamma=0.1, kernel=rbf, score=0.932, total=   0.0s\n",
      "[CV] C=100, degree=4, gamma=0.1, kernel=rbf ..........................\n",
      "[CV]  C=100, degree=4, gamma=0.1, kernel=rbf, score=0.962, total=   0.0s\n",
      "[CV] C=100, degree=4, gamma=0.1, kernel=rbf ..........................\n",
      "[CV]  C=100, degree=4, gamma=0.1, kernel=rbf, score=0.985, total=   0.0s\n",
      "[CV] C=100, degree=4, gamma=0.1, kernel=poly .........................\n",
      "[CV]  C=100, degree=4, gamma=0.1, kernel=poly, score=0.759, total=   0.0s\n",
      "[CV] C=100, degree=4, gamma=0.1, kernel=poly .........................\n",
      "[CV]  C=100, degree=4, gamma=0.1, kernel=poly, score=0.759, total=   0.0s\n",
      "[CV] C=100, degree=4, gamma=0.1, kernel=poly .........................\n",
      "[CV]  C=100, degree=4, gamma=0.1, kernel=poly, score=0.758, total=   0.0s\n",
      "[CV] C=100, degree=4, gamma=0.01, kernel=rbf .........................\n",
      "[CV]  C=100, degree=4, gamma=0.01, kernel=rbf, score=0.977, total=   0.0s\n",
      "[CV] C=100, degree=4, gamma=0.01, kernel=rbf .........................\n",
      "[CV]  C=100, degree=4, gamma=0.01, kernel=rbf, score=0.955, total=   0.0s\n",
      "[CV] C=100, degree=4, gamma=0.01, kernel=rbf .........................\n",
      "[CV]  C=100, degree=4, gamma=0.01, kernel=rbf, score=0.955, total=   0.0s\n",
      "[CV] C=100, degree=4, gamma=0.01, kernel=poly ........................\n",
      "[CV]  C=100, degree=4, gamma=0.01, kernel=poly, score=0.729, total=   0.0s\n",
      "[CV] C=100, degree=4, gamma=0.01, kernel=poly ........................\n",
      "[CV]  C=100, degree=4, gamma=0.01, kernel=poly, score=0.782, total=   0.0s\n",
      "[CV] C=100, degree=4, gamma=0.01, kernel=poly ........................\n",
      "[CV]  C=100, degree=4, gamma=0.01, kernel=poly, score=0.780, total=   0.0s\n",
      "[CV] C=100, degree=4, gamma=0.001, kernel=rbf ........................\n",
      "[CV]  C=100, degree=4, gamma=0.001, kernel=rbf, score=0.962, total=   0.0s\n",
      "[CV] C=100, degree=4, gamma=0.001, kernel=rbf ........................\n",
      "[CV]  C=100, degree=4, gamma=0.001, kernel=rbf, score=0.992, total=   0.0s\n",
      "[CV] C=100, degree=4, gamma=0.001, kernel=rbf ........................\n",
      "[CV]  C=100, degree=4, gamma=0.001, kernel=rbf, score=0.985, total=   0.0s\n",
      "[CV] C=100, degree=4, gamma=0.001, kernel=poly .......................\n",
      "[CV]  C=100, degree=4, gamma=0.001, kernel=poly, score=0.632, total=   0.0s\n",
      "[CV] C=100, degree=4, gamma=0.001, kernel=poly .......................\n",
      "[CV]  C=100, degree=4, gamma=0.001, kernel=poly, score=0.632, total=   0.0s\n",
      "[CV] C=100, degree=4, gamma=0.001, kernel=poly .......................\n",
      "[CV]  C=100, degree=4, gamma=0.001, kernel=poly, score=0.644, total=   0.0s\n",
      "[CV] C=100, degree=4, gamma=0.0001, kernel=rbf .......................\n",
      "[CV]  C=100, degree=4, gamma=0.0001, kernel=rbf, score=0.970, total=   0.0s\n",
      "[CV] C=100, degree=4, gamma=0.0001, kernel=rbf .......................\n",
      "[CV]  C=100, degree=4, gamma=0.0001, kernel=rbf, score=0.992, total=   0.0s\n",
      "[CV] C=100, degree=4, gamma=0.0001, kernel=rbf .......................\n",
      "[CV]  C=100, degree=4, gamma=0.0001, kernel=rbf, score=0.985, total=   0.0s\n",
      "[CV] C=100, degree=4, gamma=0.0001, kernel=poly ......................\n",
      "[CV]  C=100, degree=4, gamma=0.0001, kernel=poly, score=0.632, total=   0.0s\n",
      "[CV] C=100, degree=4, gamma=0.0001, kernel=poly ......................\n",
      "[CV]  C=100, degree=4, gamma=0.0001, kernel=poly, score=0.632, total=   0.0s\n",
      "[CV] C=100, degree=4, gamma=0.0001, kernel=poly ......................\n",
      "[CV]  C=100, degree=4, gamma=0.0001, kernel=poly, score=0.636, total=   0.0s\n",
      "[CV] C=100, degree=5, gamma=0.1, kernel=rbf ..........................\n",
      "[CV]  C=100, degree=5, gamma=0.1, kernel=rbf, score=0.932, total=   0.0s\n",
      "[CV] C=100, degree=5, gamma=0.1, kernel=rbf ..........................\n",
      "[CV]  C=100, degree=5, gamma=0.1, kernel=rbf, score=0.962, total=   0.0s\n",
      "[CV] C=100, degree=5, gamma=0.1, kernel=rbf ..........................\n",
      "[CV]  C=100, degree=5, gamma=0.1, kernel=rbf, score=0.985, total=   0.0s\n",
      "[CV] C=100, degree=5, gamma=0.1, kernel=poly .........................\n",
      "[CV]  C=100, degree=5, gamma=0.1, kernel=poly, score=0.880, total=   0.0s\n",
      "[CV] C=100, degree=5, gamma=0.1, kernel=poly .........................\n",
      "[CV]  C=100, degree=5, gamma=0.1, kernel=poly, score=0.917, total=   0.0s\n",
      "[CV] C=100, degree=5, gamma=0.1, kernel=poly .........................\n",
      "[CV]  C=100, degree=5, gamma=0.1, kernel=poly, score=0.909, total=   0.0s\n",
      "[CV] C=100, degree=5, gamma=0.01, kernel=rbf .........................\n",
      "[CV]  C=100, degree=5, gamma=0.01, kernel=rbf, score=0.977, total=   0.0s\n",
      "[CV] C=100, degree=5, gamma=0.01, kernel=rbf .........................\n",
      "[CV]  C=100, degree=5, gamma=0.01, kernel=rbf, score=0.955, total=   0.0s\n",
      "[CV] C=100, degree=5, gamma=0.01, kernel=rbf .........................\n",
      "[CV]  C=100, degree=5, gamma=0.01, kernel=rbf, score=0.955, total=   0.0s\n",
      "[CV] C=100, degree=5, gamma=0.01, kernel=poly ........................\n",
      "[CV]  C=100, degree=5, gamma=0.01, kernel=poly, score=0.752, total=   0.0s\n",
      "[CV] C=100, degree=5, gamma=0.01, kernel=poly ........................\n",
      "[CV]  C=100, degree=5, gamma=0.01, kernel=poly, score=0.812, total=   0.0s\n",
      "[CV] C=100, degree=5, gamma=0.01, kernel=poly ........................\n",
      "[CV]  C=100, degree=5, gamma=0.01, kernel=poly, score=0.795, total=   0.0s\n",
      "[CV] C=100, degree=5, gamma=0.001, kernel=rbf ........................\n",
      "[CV]  C=100, degree=5, gamma=0.001, kernel=rbf, score=0.962, total=   0.0s\n",
      "[CV] C=100, degree=5, gamma=0.001, kernel=rbf ........................\n",
      "[CV]  C=100, degree=5, gamma=0.001, kernel=rbf, score=0.992, total=   0.0s\n",
      "[CV] C=100, degree=5, gamma=0.001, kernel=rbf ........................\n",
      "[CV]  C=100, degree=5, gamma=0.001, kernel=rbf, score=0.985, total=   0.0s\n",
      "[CV] C=100, degree=5, gamma=0.001, kernel=poly .......................\n",
      "[CV]  C=100, degree=5, gamma=0.001, kernel=poly, score=0.632, total=   0.0s\n",
      "[CV] C=100, degree=5, gamma=0.001, kernel=poly .......................\n",
      "[CV]  C=100, degree=5, gamma=0.001, kernel=poly, score=0.632, total=   0.0s\n",
      "[CV] C=100, degree=5, gamma=0.001, kernel=poly .......................\n",
      "[CV]  C=100, degree=5, gamma=0.001, kernel=poly, score=0.636, total=   0.0s\n",
      "[CV] C=100, degree=5, gamma=0.0001, kernel=rbf .......................\n",
      "[CV]  C=100, degree=5, gamma=0.0001, kernel=rbf, score=0.970, total=   0.0s\n",
      "[CV] C=100, degree=5, gamma=0.0001, kernel=rbf .......................\n",
      "[CV]  C=100, degree=5, gamma=0.0001, kernel=rbf, score=0.992, total=   0.0s\n",
      "[CV] C=100, degree=5, gamma=0.0001, kernel=rbf .......................\n",
      "[CV]  C=100, degree=5, gamma=0.0001, kernel=rbf, score=0.985, total=   0.0s\n",
      "[CV] C=100, degree=5, gamma=0.0001, kernel=poly ......................\n",
      "[CV]  C=100, degree=5, gamma=0.0001, kernel=poly, score=0.632, total=   0.0s\n",
      "[CV] C=100, degree=5, gamma=0.0001, kernel=poly ......................\n",
      "[CV]  C=100, degree=5, gamma=0.0001, kernel=poly, score=0.632, total=   0.0s\n",
      "[CV] C=100, degree=5, gamma=0.0001, kernel=poly ......................\n",
      "[CV]  C=100, degree=5, gamma=0.0001, kernel=poly, score=0.636, total=   0.0s\n",
      "[CV] C=100, degree=6, gamma=0.1, kernel=rbf ..........................\n",
      "[CV]  C=100, degree=6, gamma=0.1, kernel=rbf, score=0.932, total=   0.0s\n",
      "[CV] C=100, degree=6, gamma=0.1, kernel=rbf ..........................\n",
      "[CV]  C=100, degree=6, gamma=0.1, kernel=rbf, score=0.962, total=   0.0s\n",
      "[CV] C=100, degree=6, gamma=0.1, kernel=rbf ..........................\n"
     ]
    },
    {
     "name": "stdout",
     "output_type": "stream",
     "text": [
      "[CV]  C=100, degree=6, gamma=0.1, kernel=rbf, score=0.985, total=   0.0s\n",
      "[CV] C=100, degree=6, gamma=0.1, kernel=poly .........................\n",
      "[CV]  C=100, degree=6, gamma=0.1, kernel=poly, score=0.699, total=   0.0s\n",
      "[CV] C=100, degree=6, gamma=0.1, kernel=poly .........................\n",
      "[CV]  C=100, degree=6, gamma=0.1, kernel=poly, score=0.714, total=   0.0s\n",
      "[CV] C=100, degree=6, gamma=0.1, kernel=poly .........................\n",
      "[CV]  C=100, degree=6, gamma=0.1, kernel=poly, score=0.697, total=   0.0s\n",
      "[CV] C=100, degree=6, gamma=0.01, kernel=rbf .........................\n",
      "[CV]  C=100, degree=6, gamma=0.01, kernel=rbf, score=0.977, total=   0.0s\n",
      "[CV] C=100, degree=6, gamma=0.01, kernel=rbf .........................\n",
      "[CV]  C=100, degree=6, gamma=0.01, kernel=rbf, score=0.955, total=   0.0s\n",
      "[CV] C=100, degree=6, gamma=0.01, kernel=rbf .........................\n",
      "[CV]  C=100, degree=6, gamma=0.01, kernel=rbf, score=0.955, total=   0.0s\n",
      "[CV] C=100, degree=6, gamma=0.01, kernel=poly ........................\n",
      "[CV]  C=100, degree=6, gamma=0.01, kernel=poly, score=0.707, total=   0.0s\n",
      "[CV] C=100, degree=6, gamma=0.01, kernel=poly ........................\n",
      "[CV]  C=100, degree=6, gamma=0.01, kernel=poly, score=0.737, total=   0.0s\n",
      "[CV] C=100, degree=6, gamma=0.01, kernel=poly ........................\n",
      "[CV]  C=100, degree=6, gamma=0.01, kernel=poly, score=0.720, total=   0.0s\n",
      "[CV] C=100, degree=6, gamma=0.001, kernel=rbf ........................\n",
      "[CV]  C=100, degree=6, gamma=0.001, kernel=rbf, score=0.962, total=   0.0s\n",
      "[CV] C=100, degree=6, gamma=0.001, kernel=rbf ........................\n",
      "[CV]  C=100, degree=6, gamma=0.001, kernel=rbf, score=0.992, total=   0.0s\n",
      "[CV] C=100, degree=6, gamma=0.001, kernel=rbf ........................\n",
      "[CV]  C=100, degree=6, gamma=0.001, kernel=rbf, score=0.985, total=   0.0s\n",
      "[CV] C=100, degree=6, gamma=0.001, kernel=poly .......................\n",
      "[CV]  C=100, degree=6, gamma=0.001, kernel=poly, score=0.632, total=   0.0s\n",
      "[CV] C=100, degree=6, gamma=0.001, kernel=poly .......................\n",
      "[CV]  C=100, degree=6, gamma=0.001, kernel=poly, score=0.632, total=   0.0s\n",
      "[CV] C=100, degree=6, gamma=0.001, kernel=poly .......................\n",
      "[CV]  C=100, degree=6, gamma=0.001, kernel=poly, score=0.636, total=   0.0s\n",
      "[CV] C=100, degree=6, gamma=0.0001, kernel=rbf .......................\n",
      "[CV]  C=100, degree=6, gamma=0.0001, kernel=rbf, score=0.970, total=   0.0s\n",
      "[CV] C=100, degree=6, gamma=0.0001, kernel=rbf .......................\n",
      "[CV]  C=100, degree=6, gamma=0.0001, kernel=rbf, score=0.992, total=   0.0s\n",
      "[CV] C=100, degree=6, gamma=0.0001, kernel=rbf .......................\n",
      "[CV]  C=100, degree=6, gamma=0.0001, kernel=rbf, score=0.985, total=   0.0s\n",
      "[CV] C=100, degree=6, gamma=0.0001, kernel=poly ......................\n",
      "[CV]  C=100, degree=6, gamma=0.0001, kernel=poly, score=0.632, total=   0.0s\n",
      "[CV] C=100, degree=6, gamma=0.0001, kernel=poly ......................\n",
      "[CV]  C=100, degree=6, gamma=0.0001, kernel=poly, score=0.632, total=   0.0s\n",
      "[CV] C=100, degree=6, gamma=0.0001, kernel=poly ......................\n",
      "[CV]  C=100, degree=6, gamma=0.0001, kernel=poly, score=0.636, total=   0.0s\n",
      "[CV] C=100, degree=7, gamma=0.1, kernel=rbf ..........................\n",
      "[CV]  C=100, degree=7, gamma=0.1, kernel=rbf, score=0.932, total=   0.0s\n",
      "[CV] C=100, degree=7, gamma=0.1, kernel=rbf ..........................\n",
      "[CV]  C=100, degree=7, gamma=0.1, kernel=rbf, score=0.962, total=   0.0s\n",
      "[CV] C=100, degree=7, gamma=0.1, kernel=rbf ..........................\n",
      "[CV]  C=100, degree=7, gamma=0.1, kernel=rbf, score=0.985, total=   0.0s\n",
      "[CV] C=100, degree=7, gamma=0.1, kernel=poly .........................\n",
      "[CV]  C=100, degree=7, gamma=0.1, kernel=poly, score=0.865, total=   0.0s\n",
      "[CV] C=100, degree=7, gamma=0.1, kernel=poly .........................\n",
      "[CV]  C=100, degree=7, gamma=0.1, kernel=poly, score=0.917, total=   0.0s\n",
      "[CV] C=100, degree=7, gamma=0.1, kernel=poly .........................\n",
      "[CV]  C=100, degree=7, gamma=0.1, kernel=poly, score=0.886, total=   0.0s\n",
      "[CV] C=100, degree=7, gamma=0.01, kernel=rbf .........................\n",
      "[CV]  C=100, degree=7, gamma=0.01, kernel=rbf, score=0.977, total=   0.0s\n",
      "[CV] C=100, degree=7, gamma=0.01, kernel=rbf .........................\n",
      "[CV]  C=100, degree=7, gamma=0.01, kernel=rbf, score=0.955, total=   0.0s\n",
      "[CV] C=100, degree=7, gamma=0.01, kernel=rbf .........................\n",
      "[CV]  C=100, degree=7, gamma=0.01, kernel=rbf, score=0.955, total=   0.0s\n",
      "[CV] C=100, degree=7, gamma=0.01, kernel=poly ........................\n",
      "[CV]  C=100, degree=7, gamma=0.01, kernel=poly, score=0.699, total=   0.0s\n",
      "[CV] C=100, degree=7, gamma=0.01, kernel=poly ........................\n",
      "[CV]  C=100, degree=7, gamma=0.01, kernel=poly, score=0.729, total=   0.0s\n",
      "[CV] C=100, degree=7, gamma=0.01, kernel=poly ........................\n",
      "[CV]  C=100, degree=7, gamma=0.01, kernel=poly, score=0.727, total=   0.0s\n",
      "[CV] C=100, degree=7, gamma=0.001, kernel=rbf ........................\n",
      "[CV]  C=100, degree=7, gamma=0.001, kernel=rbf, score=0.962, total=   0.0s\n",
      "[CV] C=100, degree=7, gamma=0.001, kernel=rbf ........................\n",
      "[CV]  C=100, degree=7, gamma=0.001, kernel=rbf, score=0.992, total=   0.0s\n",
      "[CV] C=100, degree=7, gamma=0.001, kernel=rbf ........................\n",
      "[CV]  C=100, degree=7, gamma=0.001, kernel=rbf, score=0.985, total=   0.0s\n",
      "[CV] C=100, degree=7, gamma=0.001, kernel=poly .......................\n",
      "[CV]  C=100, degree=7, gamma=0.001, kernel=poly, score=0.632, total=   0.0s\n",
      "[CV] C=100, degree=7, gamma=0.001, kernel=poly .......................\n",
      "[CV]  C=100, degree=7, gamma=0.001, kernel=poly, score=0.632, total=   0.0s\n",
      "[CV] C=100, degree=7, gamma=0.001, kernel=poly .......................\n",
      "[CV]  C=100, degree=7, gamma=0.001, kernel=poly, score=0.636, total=   0.0s\n",
      "[CV] C=100, degree=7, gamma=0.0001, kernel=rbf .......................\n",
      "[CV]  C=100, degree=7, gamma=0.0001, kernel=rbf, score=0.970, total=   0.0s\n",
      "[CV] C=100, degree=7, gamma=0.0001, kernel=rbf .......................\n",
      "[CV]  C=100, degree=7, gamma=0.0001, kernel=rbf, score=0.992, total=   0.0s\n",
      "[CV] C=100, degree=7, gamma=0.0001, kernel=rbf .......................\n",
      "[CV]  C=100, degree=7, gamma=0.0001, kernel=rbf, score=0.985, total=   0.0s\n",
      "[CV] C=100, degree=7, gamma=0.0001, kernel=poly ......................\n",
      "[CV]  C=100, degree=7, gamma=0.0001, kernel=poly, score=0.632, total=   0.0s\n",
      "[CV] C=100, degree=7, gamma=0.0001, kernel=poly ......................\n",
      "[CV]  C=100, degree=7, gamma=0.0001, kernel=poly, score=0.632, total=   0.0s\n",
      "[CV] C=100, degree=7, gamma=0.0001, kernel=poly ......................\n",
      "[CV]  C=100, degree=7, gamma=0.0001, kernel=poly, score=0.636, total=   0.0s\n",
      "[CV] C=1000, degree=3, gamma=0.1, kernel=rbf .........................\n",
      "[CV]  C=1000, degree=3, gamma=0.1, kernel=rbf, score=0.932, total=   0.0s\n",
      "[CV] C=1000, degree=3, gamma=0.1, kernel=rbf .........................\n",
      "[CV]  C=1000, degree=3, gamma=0.1, kernel=rbf, score=0.962, total=   0.0s\n",
      "[CV] C=1000, degree=3, gamma=0.1, kernel=rbf .........................\n",
      "[CV]  C=1000, degree=3, gamma=0.1, kernel=rbf, score=0.985, total=   0.0s\n",
      "[CV] C=1000, degree=3, gamma=0.1, kernel=poly ........................\n",
      "[CV]  C=1000, degree=3, gamma=0.1, kernel=poly, score=0.925, total=   0.0s\n",
      "[CV] C=1000, degree=3, gamma=0.1, kernel=poly ........................\n",
      "[CV]  C=1000, degree=3, gamma=0.1, kernel=poly, score=0.932, total=   0.0s\n",
      "[CV] C=1000, degree=3, gamma=0.1, kernel=poly ........................\n",
      "[CV]  C=1000, degree=3, gamma=0.1, kernel=poly, score=0.955, total=   0.0s\n",
      "[CV] C=1000, degree=3, gamma=0.01, kernel=rbf ........................\n",
      "[CV]  C=1000, degree=3, gamma=0.01, kernel=rbf, score=0.962, total=   0.0s\n",
      "[CV] C=1000, degree=3, gamma=0.01, kernel=rbf ........................\n",
      "[CV]  C=1000, degree=3, gamma=0.01, kernel=rbf, score=0.940, total=   0.0s\n",
      "[CV] C=1000, degree=3, gamma=0.01, kernel=rbf ........................\n",
      "[CV]  C=1000, degree=3, gamma=0.01, kernel=rbf, score=0.932, total=   0.0s\n",
      "[CV] C=1000, degree=3, gamma=0.01, kernel=poly .......................\n",
      "[CV]  C=1000, degree=3, gamma=0.01, kernel=poly, score=0.932, total=   0.0s\n",
      "[CV] C=1000, degree=3, gamma=0.01, kernel=poly .......................\n",
      "[CV]  C=1000, degree=3, gamma=0.01, kernel=poly, score=0.977, total=   0.0s\n",
      "[CV] C=1000, degree=3, gamma=0.01, kernel=poly .......................\n",
      "[CV]  C=1000, degree=3, gamma=0.01, kernel=poly, score=0.977, total=   0.0s\n",
      "[CV] C=1000, degree=3, gamma=0.001, kernel=rbf .......................\n",
      "[CV]  C=1000, degree=3, gamma=0.001, kernel=rbf, score=0.977, total=   0.0s\n",
      "[CV] C=1000, degree=3, gamma=0.001, kernel=rbf .......................\n",
      "[CV]  C=1000, degree=3, gamma=0.001, kernel=rbf, score=0.955, total=   0.0s\n",
      "[CV] C=1000, degree=3, gamma=0.001, kernel=rbf .......................\n",
      "[CV]  C=1000, degree=3, gamma=0.001, kernel=rbf, score=0.977, total=   0.0s\n",
      "[CV] C=1000, degree=3, gamma=0.001, kernel=poly ......................\n",
      "[CV]  C=1000, degree=3, gamma=0.001, kernel=poly, score=0.707, total=   0.0s\n",
      "[CV] C=1000, degree=3, gamma=0.001, kernel=poly ......................\n",
      "[CV]  C=1000, degree=3, gamma=0.001, kernel=poly, score=0.737, total=   0.0s\n",
      "[CV] C=1000, degree=3, gamma=0.001, kernel=poly ......................\n",
      "[CV]  C=1000, degree=3, gamma=0.001, kernel=poly, score=0.742, total=   0.0s\n",
      "[CV] C=1000, degree=3, gamma=0.0001, kernel=rbf ......................\n",
      "[CV]  C=1000, degree=3, gamma=0.0001, kernel=rbf, score=0.962, total=   0.0s\n",
      "[CV] C=1000, degree=3, gamma=0.0001, kernel=rbf ......................\n",
      "[CV]  C=1000, degree=3, gamma=0.0001, kernel=rbf, score=0.992, total=   0.0s\n",
      "[CV] C=1000, degree=3, gamma=0.0001, kernel=rbf ......................\n",
      "[CV]  C=1000, degree=3, gamma=0.0001, kernel=rbf, score=0.985, total=   0.0s\n",
      "[CV] C=1000, degree=3, gamma=0.0001, kernel=poly .....................\n",
      "[CV]  C=1000, degree=3, gamma=0.0001, kernel=poly, score=0.632, total=   0.0s\n",
      "[CV] C=1000, degree=3, gamma=0.0001, kernel=poly .....................\n",
      "[CV]  C=1000, degree=3, gamma=0.0001, kernel=poly, score=0.632, total=   0.0s\n",
      "[CV] C=1000, degree=3, gamma=0.0001, kernel=poly .....................\n",
      "[CV]  C=1000, degree=3, gamma=0.0001, kernel=poly, score=0.636, total=   0.0s\n",
      "[CV] C=1000, degree=4, gamma=0.1, kernel=rbf .........................\n",
      "[CV]  C=1000, degree=4, gamma=0.1, kernel=rbf, score=0.932, total=   0.0s\n",
      "[CV] C=1000, degree=4, gamma=0.1, kernel=rbf .........................\n",
      "[CV]  C=1000, degree=4, gamma=0.1, kernel=rbf, score=0.962, total=   0.0s\n",
      "[CV] C=1000, degree=4, gamma=0.1, kernel=rbf .........................\n",
      "[CV]  C=1000, degree=4, gamma=0.1, kernel=rbf, score=0.985, total=   0.0s\n",
      "[CV] C=1000, degree=4, gamma=0.1, kernel=poly ........................\n",
      "[CV]  C=1000, degree=4, gamma=0.1, kernel=poly, score=0.759, total=   0.0s\n",
      "[CV] C=1000, degree=4, gamma=0.1, kernel=poly ........................\n",
      "[CV]  C=1000, degree=4, gamma=0.1, kernel=poly, score=0.759, total=   0.0s\n",
      "[CV] C=1000, degree=4, gamma=0.1, kernel=poly ........................\n",
      "[CV]  C=1000, degree=4, gamma=0.1, kernel=poly, score=0.758, total=   0.0s\n",
      "[CV] C=1000, degree=4, gamma=0.01, kernel=rbf ........................\n",
      "[CV]  C=1000, degree=4, gamma=0.01, kernel=rbf, score=0.962, total=   0.0s\n",
      "[CV] C=1000, degree=4, gamma=0.01, kernel=rbf ........................\n",
      "[CV]  C=1000, degree=4, gamma=0.01, kernel=rbf, score=0.940, total=   0.0s\n",
      "[CV] C=1000, degree=4, gamma=0.01, kernel=rbf ........................\n",
      "[CV]  C=1000, degree=4, gamma=0.01, kernel=rbf, score=0.932, total=   0.0s\n",
      "[CV] C=1000, degree=4, gamma=0.01, kernel=poly .......................\n",
      "[CV]  C=1000, degree=4, gamma=0.01, kernel=poly, score=0.767, total=   0.0s\n",
      "[CV] C=1000, degree=4, gamma=0.01, kernel=poly .......................\n",
      "[CV]  C=1000, degree=4, gamma=0.01, kernel=poly, score=0.782, total=   0.0s\n",
      "[CV] C=1000, degree=4, gamma=0.01, kernel=poly .......................\n",
      "[CV]  C=1000, degree=4, gamma=0.01, kernel=poly, score=0.826, total=   0.0s\n",
      "[CV] C=1000, degree=4, gamma=0.001, kernel=rbf .......................\n",
      "[CV]  C=1000, degree=4, gamma=0.001, kernel=rbf, score=0.977, total=   0.0s\n",
      "[CV] C=1000, degree=4, gamma=0.001, kernel=rbf .......................\n",
      "[CV]  C=1000, degree=4, gamma=0.001, kernel=rbf, score=0.955, total=   0.0s\n",
      "[CV] C=1000, degree=4, gamma=0.001, kernel=rbf .......................\n",
      "[CV]  C=1000, degree=4, gamma=0.001, kernel=rbf, score=0.977, total=   0.0s\n",
      "[CV] C=1000, degree=4, gamma=0.001, kernel=poly ......................\n",
      "[CV]  C=1000, degree=4, gamma=0.001, kernel=poly, score=0.647, total=   0.0s\n",
      "[CV] C=1000, degree=4, gamma=0.001, kernel=poly ......................\n",
      "[CV]  C=1000, degree=4, gamma=0.001, kernel=poly, score=0.654, total=   0.0s\n",
      "[CV] C=1000, degree=4, gamma=0.001, kernel=poly ......................\n"
     ]
    },
    {
     "name": "stdout",
     "output_type": "stream",
     "text": [
      "[CV]  C=1000, degree=4, gamma=0.001, kernel=poly, score=0.659, total=   0.0s\n",
      "[CV] C=1000, degree=4, gamma=0.0001, kernel=rbf ......................\n",
      "[CV]  C=1000, degree=4, gamma=0.0001, kernel=rbf, score=0.962, total=   0.0s\n",
      "[CV] C=1000, degree=4, gamma=0.0001, kernel=rbf ......................\n",
      "[CV]  C=1000, degree=4, gamma=0.0001, kernel=rbf, score=0.992, total=   0.0s\n",
      "[CV] C=1000, degree=4, gamma=0.0001, kernel=rbf ......................\n",
      "[CV]  C=1000, degree=4, gamma=0.0001, kernel=rbf, score=0.985, total=   0.0s\n",
      "[CV] C=1000, degree=4, gamma=0.0001, kernel=poly .....................\n",
      "[CV]  C=1000, degree=4, gamma=0.0001, kernel=poly, score=0.632, total=   0.0s\n",
      "[CV] C=1000, degree=4, gamma=0.0001, kernel=poly .....................\n",
      "[CV]  C=1000, degree=4, gamma=0.0001, kernel=poly, score=0.632, total=   0.0s\n",
      "[CV] C=1000, degree=4, gamma=0.0001, kernel=poly .....................\n",
      "[CV]  C=1000, degree=4, gamma=0.0001, kernel=poly, score=0.636, total=   0.0s\n",
      "[CV] C=1000, degree=5, gamma=0.1, kernel=rbf .........................\n",
      "[CV]  C=1000, degree=5, gamma=0.1, kernel=rbf, score=0.932, total=   0.0s\n",
      "[CV] C=1000, degree=5, gamma=0.1, kernel=rbf .........................\n",
      "[CV]  C=1000, degree=5, gamma=0.1, kernel=rbf, score=0.962, total=   0.0s\n",
      "[CV] C=1000, degree=5, gamma=0.1, kernel=rbf .........................\n",
      "[CV]  C=1000, degree=5, gamma=0.1, kernel=rbf, score=0.985, total=   0.0s\n",
      "[CV] C=1000, degree=5, gamma=0.1, kernel=poly ........................\n",
      "[CV]  C=1000, degree=5, gamma=0.1, kernel=poly, score=0.880, total=   0.0s\n",
      "[CV] C=1000, degree=5, gamma=0.1, kernel=poly ........................\n",
      "[CV]  C=1000, degree=5, gamma=0.1, kernel=poly, score=0.910, total=   0.0s\n",
      "[CV] C=1000, degree=5, gamma=0.1, kernel=poly ........................\n",
      "[CV]  C=1000, degree=5, gamma=0.1, kernel=poly, score=0.909, total=   0.0s\n",
      "[CV] C=1000, degree=5, gamma=0.01, kernel=rbf ........................\n",
      "[CV]  C=1000, degree=5, gamma=0.01, kernel=rbf, score=0.962, total=   0.0s\n",
      "[CV] C=1000, degree=5, gamma=0.01, kernel=rbf ........................\n",
      "[CV]  C=1000, degree=5, gamma=0.01, kernel=rbf, score=0.940, total=   0.0s\n",
      "[CV] C=1000, degree=5, gamma=0.01, kernel=rbf ........................\n",
      "[CV]  C=1000, degree=5, gamma=0.01, kernel=rbf, score=0.932, total=   0.0s\n",
      "[CV] C=1000, degree=5, gamma=0.01, kernel=poly .......................\n",
      "[CV]  C=1000, degree=5, gamma=0.01, kernel=poly, score=0.805, total=   0.0s\n",
      "[CV] C=1000, degree=5, gamma=0.01, kernel=poly .......................\n",
      "[CV]  C=1000, degree=5, gamma=0.01, kernel=poly, score=0.872, total=   0.0s\n",
      "[CV] C=1000, degree=5, gamma=0.01, kernel=poly .......................\n",
      "[CV]  C=1000, degree=5, gamma=0.01, kernel=poly, score=0.841, total=   0.0s\n",
      "[CV] C=1000, degree=5, gamma=0.001, kernel=rbf .......................\n",
      "[CV]  C=1000, degree=5, gamma=0.001, kernel=rbf, score=0.977, total=   0.0s\n",
      "[CV] C=1000, degree=5, gamma=0.001, kernel=rbf .......................\n",
      "[CV]  C=1000, degree=5, gamma=0.001, kernel=rbf, score=0.955, total=   0.0s\n",
      "[CV] C=1000, degree=5, gamma=0.001, kernel=rbf .......................\n",
      "[CV]  C=1000, degree=5, gamma=0.001, kernel=rbf, score=0.977, total=   0.0s\n",
      "[CV] C=1000, degree=5, gamma=0.001, kernel=poly ......................\n",
      "[CV]  C=1000, degree=5, gamma=0.001, kernel=poly, score=0.632, total=   0.0s\n",
      "[CV] C=1000, degree=5, gamma=0.001, kernel=poly ......................\n",
      "[CV]  C=1000, degree=5, gamma=0.001, kernel=poly, score=0.632, total=   0.0s\n",
      "[CV] C=1000, degree=5, gamma=0.001, kernel=poly ......................\n",
      "[CV]  C=1000, degree=5, gamma=0.001, kernel=poly, score=0.644, total=   0.0s\n",
      "[CV] C=1000, degree=5, gamma=0.0001, kernel=rbf ......................\n",
      "[CV]  C=1000, degree=5, gamma=0.0001, kernel=rbf, score=0.962, total=   0.0s\n",
      "[CV] C=1000, degree=5, gamma=0.0001, kernel=rbf ......................\n",
      "[CV]  C=1000, degree=5, gamma=0.0001, kernel=rbf, score=0.992, total=   0.0s\n",
      "[CV] C=1000, degree=5, gamma=0.0001, kernel=rbf ......................\n",
      "[CV]  C=1000, degree=5, gamma=0.0001, kernel=rbf, score=0.985, total=   0.0s\n",
      "[CV] C=1000, degree=5, gamma=0.0001, kernel=poly .....................\n",
      "[CV]  C=1000, degree=5, gamma=0.0001, kernel=poly, score=0.632, total=   0.0s\n",
      "[CV] C=1000, degree=5, gamma=0.0001, kernel=poly .....................\n",
      "[CV]  C=1000, degree=5, gamma=0.0001, kernel=poly, score=0.632, total=   0.0s\n",
      "[CV] C=1000, degree=5, gamma=0.0001, kernel=poly .....................\n",
      "[CV]  C=1000, degree=5, gamma=0.0001, kernel=poly, score=0.636, total=   0.0s\n",
      "[CV] C=1000, degree=6, gamma=0.1, kernel=rbf .........................\n",
      "[CV]  C=1000, degree=6, gamma=0.1, kernel=rbf, score=0.932, total=   0.0s\n",
      "[CV] C=1000, degree=6, gamma=0.1, kernel=rbf .........................\n",
      "[CV]  C=1000, degree=6, gamma=0.1, kernel=rbf, score=0.962, total=   0.0s\n",
      "[CV] C=1000, degree=6, gamma=0.1, kernel=rbf .........................\n",
      "[CV]  C=1000, degree=6, gamma=0.1, kernel=rbf, score=0.985, total=   0.0s\n",
      "[CV] C=1000, degree=6, gamma=0.1, kernel=poly ........................\n",
      "[CV]  C=1000, degree=6, gamma=0.1, kernel=poly, score=0.692, total=   0.0s\n",
      "[CV] C=1000, degree=6, gamma=0.1, kernel=poly ........................\n",
      "[CV]  C=1000, degree=6, gamma=0.1, kernel=poly, score=0.722, total=   0.0s\n",
      "[CV] C=1000, degree=6, gamma=0.1, kernel=poly ........................\n",
      "[CV]  C=1000, degree=6, gamma=0.1, kernel=poly, score=0.697, total=   0.0s\n",
      "[CV] C=1000, degree=6, gamma=0.01, kernel=rbf ........................\n",
      "[CV]  C=1000, degree=6, gamma=0.01, kernel=rbf, score=0.962, total=   0.0s\n",
      "[CV] C=1000, degree=6, gamma=0.01, kernel=rbf ........................\n",
      "[CV]  C=1000, degree=6, gamma=0.01, kernel=rbf, score=0.940, total=   0.0s\n",
      "[CV] C=1000, degree=6, gamma=0.01, kernel=rbf ........................\n",
      "[CV]  C=1000, degree=6, gamma=0.01, kernel=rbf, score=0.932, total=   0.0s\n",
      "[CV] C=1000, degree=6, gamma=0.01, kernel=poly .......................\n",
      "[CV]  C=1000, degree=6, gamma=0.01, kernel=poly, score=0.722, total=   0.0s\n",
      "[CV] C=1000, degree=6, gamma=0.01, kernel=poly .......................\n",
      "[CV]  C=1000, degree=6, gamma=0.01, kernel=poly, score=0.752, total=   0.0s\n",
      "[CV] C=1000, degree=6, gamma=0.01, kernel=poly .......................\n",
      "[CV]  C=1000, degree=6, gamma=0.01, kernel=poly, score=0.773, total=   0.0s\n",
      "[CV] C=1000, degree=6, gamma=0.001, kernel=rbf .......................\n",
      "[CV]  C=1000, degree=6, gamma=0.001, kernel=rbf, score=0.977, total=   0.0s\n",
      "[CV] C=1000, degree=6, gamma=0.001, kernel=rbf .......................\n",
      "[CV]  C=1000, degree=6, gamma=0.001, kernel=rbf, score=0.955, total=   0.0s\n",
      "[CV] C=1000, degree=6, gamma=0.001, kernel=rbf .......................\n",
      "[CV]  C=1000, degree=6, gamma=0.001, kernel=rbf, score=0.977, total=   0.0s\n",
      "[CV] C=1000, degree=6, gamma=0.001, kernel=poly ......................\n",
      "[CV]  C=1000, degree=6, gamma=0.001, kernel=poly, score=0.632, total=   0.0s\n",
      "[CV] C=1000, degree=6, gamma=0.001, kernel=poly ......................\n",
      "[CV]  C=1000, degree=6, gamma=0.001, kernel=poly, score=0.632, total=   0.0s\n",
      "[CV] C=1000, degree=6, gamma=0.001, kernel=poly ......................\n",
      "[CV]  C=1000, degree=6, gamma=0.001, kernel=poly, score=0.636, total=   0.0s\n",
      "[CV] C=1000, degree=6, gamma=0.0001, kernel=rbf ......................\n",
      "[CV]  C=1000, degree=6, gamma=0.0001, kernel=rbf, score=0.962, total=   0.0s\n",
      "[CV] C=1000, degree=6, gamma=0.0001, kernel=rbf ......................\n",
      "[CV]  C=1000, degree=6, gamma=0.0001, kernel=rbf, score=0.992, total=   0.0s\n",
      "[CV] C=1000, degree=6, gamma=0.0001, kernel=rbf ......................\n",
      "[CV]  C=1000, degree=6, gamma=0.0001, kernel=rbf, score=0.985, total=   0.0s\n",
      "[CV] C=1000, degree=6, gamma=0.0001, kernel=poly .....................\n",
      "[CV]  C=1000, degree=6, gamma=0.0001, kernel=poly, score=0.632, total=   0.0s\n",
      "[CV] C=1000, degree=6, gamma=0.0001, kernel=poly .....................\n",
      "[CV]  C=1000, degree=6, gamma=0.0001, kernel=poly, score=0.632, total=   0.0s\n",
      "[CV] C=1000, degree=6, gamma=0.0001, kernel=poly .....................\n",
      "[CV]  C=1000, degree=6, gamma=0.0001, kernel=poly, score=0.636, total=   0.0s\n",
      "[CV] C=1000, degree=7, gamma=0.1, kernel=rbf .........................\n",
      "[CV]  C=1000, degree=7, gamma=0.1, kernel=rbf, score=0.932, total=   0.0s\n",
      "[CV] C=1000, degree=7, gamma=0.1, kernel=rbf .........................\n",
      "[CV]  C=1000, degree=7, gamma=0.1, kernel=rbf, score=0.962, total=   0.0s\n",
      "[CV] C=1000, degree=7, gamma=0.1, kernel=rbf .........................\n",
      "[CV]  C=1000, degree=7, gamma=0.1, kernel=rbf, score=0.985, total=   0.0s\n",
      "[CV] C=1000, degree=7, gamma=0.1, kernel=poly ........................\n",
      "[CV]  C=1000, degree=7, gamma=0.1, kernel=poly, score=0.857, total=   0.0s\n",
      "[CV] C=1000, degree=7, gamma=0.1, kernel=poly ........................\n",
      "[CV]  C=1000, degree=7, gamma=0.1, kernel=poly, score=0.910, total=   0.0s\n",
      "[CV] C=1000, degree=7, gamma=0.1, kernel=poly ........................\n",
      "[CV]  C=1000, degree=7, gamma=0.1, kernel=poly, score=0.886, total=   0.0s\n",
      "[CV] C=1000, degree=7, gamma=0.01, kernel=rbf ........................\n",
      "[CV]  C=1000, degree=7, gamma=0.01, kernel=rbf, score=0.962, total=   0.0s\n",
      "[CV] C=1000, degree=7, gamma=0.01, kernel=rbf ........................\n",
      "[CV]  C=1000, degree=7, gamma=0.01, kernel=rbf, score=0.940, total=   0.0s\n",
      "[CV] C=1000, degree=7, gamma=0.01, kernel=rbf ........................\n",
      "[CV]  C=1000, degree=7, gamma=0.01, kernel=rbf, score=0.932, total=   0.0s\n",
      "[CV] C=1000, degree=7, gamma=0.01, kernel=poly .......................\n",
      "[CV]  C=1000, degree=7, gamma=0.01, kernel=poly, score=0.729, total=   0.0s\n",
      "[CV] C=1000, degree=7, gamma=0.01, kernel=poly .......................\n",
      "[CV]  C=1000, degree=7, gamma=0.01, kernel=poly, score=0.767, total=   0.0s\n",
      "[CV] C=1000, degree=7, gamma=0.01, kernel=poly .......................\n",
      "[CV]  C=1000, degree=7, gamma=0.01, kernel=poly, score=0.765, total=   0.0s\n",
      "[CV] C=1000, degree=7, gamma=0.001, kernel=rbf .......................\n",
      "[CV]  C=1000, degree=7, gamma=0.001, kernel=rbf, score=0.977, total=   0.0s\n",
      "[CV] C=1000, degree=7, gamma=0.001, kernel=rbf .......................\n",
      "[CV]  C=1000, degree=7, gamma=0.001, kernel=rbf, score=0.955, total=   0.0s\n",
      "[CV] C=1000, degree=7, gamma=0.001, kernel=rbf .......................\n",
      "[CV]  C=1000, degree=7, gamma=0.001, kernel=rbf, score=0.977, total=   0.0s\n",
      "[CV] C=1000, degree=7, gamma=0.001, kernel=poly ......................\n",
      "[CV]  C=1000, degree=7, gamma=0.001, kernel=poly, score=0.632, total=   0.0s\n",
      "[CV] C=1000, degree=7, gamma=0.001, kernel=poly ......................\n",
      "[CV]  C=1000, degree=7, gamma=0.001, kernel=poly, score=0.632, total=   0.0s\n",
      "[CV] C=1000, degree=7, gamma=0.001, kernel=poly ......................\n",
      "[CV]  C=1000, degree=7, gamma=0.001, kernel=poly, score=0.636, total=   0.0s\n",
      "[CV] C=1000, degree=7, gamma=0.0001, kernel=rbf ......................\n",
      "[CV]  C=1000, degree=7, gamma=0.0001, kernel=rbf, score=0.962, total=   0.0s\n",
      "[CV] C=1000, degree=7, gamma=0.0001, kernel=rbf ......................\n",
      "[CV]  C=1000, degree=7, gamma=0.0001, kernel=rbf, score=0.992, total=   0.0s\n",
      "[CV] C=1000, degree=7, gamma=0.0001, kernel=rbf ......................\n",
      "[CV]  C=1000, degree=7, gamma=0.0001, kernel=rbf, score=0.985, total=   0.0s\n",
      "[CV] C=1000, degree=7, gamma=0.0001, kernel=poly .....................\n",
      "[CV]  C=1000, degree=7, gamma=0.0001, kernel=poly, score=0.632, total=   0.0s\n",
      "[CV] C=1000, degree=7, gamma=0.0001, kernel=poly .....................\n",
      "[CV]  C=1000, degree=7, gamma=0.0001, kernel=poly, score=0.632, total=   0.0s\n",
      "[CV] C=1000, degree=7, gamma=0.0001, kernel=poly .....................\n",
      "[CV]  C=1000, degree=7, gamma=0.0001, kernel=poly, score=0.636, total=   0.0s\n"
     ]
    },
    {
     "name": "stderr",
     "output_type": "stream",
     "text": [
      "[Parallel(n_jobs=1)]: Done 480 out of 480 | elapsed:    2.1s finished\n"
     ]
    },
    {
     "data": {
      "text/plain": [
       "GridSearchCV(cv='warn', error_score='raise-deprecating',\n",
       "             estimator=SVC(C=10, cache_size=200, class_weight=None, coef0=0.0,\n",
       "                           decision_function_shape='ovr', degree=3, gamma=0.01,\n",
       "                           kernel='rbf', max_iter=-1, probability=False,\n",
       "                           random_state=None, shrinking=True, tol=0.001,\n",
       "                           verbose=False),\n",
       "             iid='warn', n_jobs=None,\n",
       "             param_grid={'C': [1, 10, 100, 1000], 'degree': [3, 4, 5, 6, 7],\n",
       "                         'gamma': [0.1, 0.01, 0.001, 0.0001],\n",
       "                         'kernel': ['rbf', 'poly']},\n",
       "             pre_dispatch='2*n_jobs', refit=True, return_train_score=False,\n",
       "             scoring=None, verbose=3)"
      ]
     },
     "execution_count": 39,
     "metadata": {},
     "output_type": "execute_result"
    }
   ],
   "source": [
    "gs_reg.fit(X_train, y_train)"
   ]
  },
  {
   "cell_type": "code",
   "execution_count": 40,
   "metadata": {},
   "outputs": [
    {
     "data": {
      "text/plain": [
       "<bound method BaseEstimator.get_params of GridSearchCV(cv='warn', error_score='raise-deprecating',\n",
       "             estimator=SVC(C=10, cache_size=200, class_weight=None, coef0=0.0,\n",
       "                           decision_function_shape='ovr', degree=3, gamma=0.01,\n",
       "                           kernel='rbf', max_iter=-1, probability=False,\n",
       "                           random_state=None, shrinking=True, tol=0.001,\n",
       "                           verbose=False),\n",
       "             iid='warn', n_jobs=None,\n",
       "             param_grid={'C': [1, 10, 100, 1000], 'degree': [3, 4, 5, 6, 7],\n",
       "                         'gamma': [0.1, 0.01, 0.001, 0.0001],\n",
       "                         'kernel': ['rbf', 'poly']},\n",
       "             pre_dispatch='2*n_jobs', refit=True, return_train_score=False,\n",
       "             scoring=None, verbose=3)>"
      ]
     },
     "execution_count": 40,
     "metadata": {},
     "output_type": "execute_result"
    }
   ],
   "source": [
    "gs_reg.get_params"
   ]
  },
  {
   "cell_type": "code",
   "execution_count": 41,
   "metadata": {},
   "outputs": [
    {
     "data": {
      "text/plain": [
       "{'C': 100, 'degree': 3, 'gamma': 0.0001, 'kernel': 'rbf'}"
      ]
     },
     "execution_count": 41,
     "metadata": {},
     "output_type": "execute_result"
    }
   ],
   "source": [
    "gs_reg.best_params_"
   ]
  },
  {
   "cell_type": "code",
   "execution_count": 42,
   "metadata": {},
   "outputs": [
    {
     "data": {
      "text/plain": [
       "SVC(C=100, cache_size=200, class_weight=None, coef0=0.0,\n",
       "    decision_function_shape='ovr', degree=3, gamma=0.0001, kernel='rbf',\n",
       "    max_iter=-1, probability=False, random_state=None, shrinking=True,\n",
       "    tol=0.001, verbose=False)"
      ]
     },
     "execution_count": 42,
     "metadata": {},
     "output_type": "execute_result"
    }
   ],
   "source": [
    "gs_reg.best_estimator_"
   ]
  },
  {
   "cell_type": "markdown",
   "metadata": {},
   "source": [
    "#### Initialing another SVM regresssor with best parameters and checking the auc roc"
   ]
  },
  {
   "cell_type": "code",
   "execution_count": 43,
   "metadata": {},
   "outputs": [],
   "source": [
    "svm_reg3 = SVC(C=100, cache_size=200, class_weight=None, coef0=0.0,\n",
    "  decision_function_shape='ovr', degree=3, gamma=0.0001, kernel='rbf',\n",
    "  max_iter=-1, probability=False, random_state=None, shrinking=True,\n",
    "  tol=0.001, verbose=False)"
   ]
  },
  {
   "cell_type": "code",
   "execution_count": 44,
   "metadata": {},
   "outputs": [
    {
     "data": {
      "text/plain": [
       "SVC(C=100, cache_size=200, class_weight=None, coef0=0.0,\n",
       "    decision_function_shape='ovr', degree=3, gamma=0.0001, kernel='rbf',\n",
       "    max_iter=-1, probability=False, random_state=None, shrinking=True,\n",
       "    tol=0.001, verbose=False)"
      ]
     },
     "execution_count": 44,
     "metadata": {},
     "output_type": "execute_result"
    }
   ],
   "source": [
    "svm_reg3.fit(X_train, y_train)"
   ]
  },
  {
   "cell_type": "markdown",
   "metadata": {},
   "source": [
    "#### Plotting the AUROC on the same above graph"
   ]
  },
  {
   "cell_type": "code",
   "execution_count": 47,
   "metadata": {},
   "outputs": [],
   "source": [
    "y_pred3 = svm_reg3.predict(X_test)"
   ]
  },
  {
   "cell_type": "code",
   "execution_count": 49,
   "metadata": {},
   "outputs": [
    {
     "data": {
      "text/plain": [
       "0.9545454545454545"
      ]
     },
     "execution_count": 49,
     "metadata": {},
     "output_type": "execute_result"
    }
   ],
   "source": [
    "metrics.roc_auc_score(y_test, y_pred3)"
   ]
  },
  {
   "cell_type": "markdown",
   "metadata": {},
   "source": [
    "#### If you see here, then the AUROC decreased, i.e. performance decreased. It is because of the fact that Gridsearch uses k-fold cross validation technique. Hence when you use 70% of data out of total data, GridSearch further divide this data for training and testing purpose and hence the decline in AUROC. <br>\n",
    "**If you perform Grid Search on whole data, then it will yeild better results**"
   ]
  },
  {
   "cell_type": "code",
   "execution_count": 50,
   "metadata": {},
   "outputs": [
    {
     "name": "stdout",
     "output_type": "stream",
     "text": [
      "              precision    recall  f1-score   support\n",
      "\n",
      "           0       1.00      0.91      0.95        66\n",
      "           1       0.95      1.00      0.97       105\n",
      "\n",
      "    accuracy                           0.96       171\n",
      "   macro avg       0.97      0.95      0.96       171\n",
      "weighted avg       0.97      0.96      0.96       171\n",
      "\n"
     ]
    }
   ],
   "source": [
    "print(metrics.classification_report(y_test, y_pred3))"
   ]
  },
  {
   "cell_type": "code",
   "execution_count": 51,
   "metadata": {},
   "outputs": [],
   "source": [
    "fpr3, tpr3, thr3 = metrics.roc_curve(y_test, y_pred3)"
   ]
  },
  {
   "cell_type": "code",
   "execution_count": 52,
   "metadata": {},
   "outputs": [],
   "source": [
    "auc_score3 = metrics.roc_auc_score(y_test, y_pred3)"
   ]
  },
  {
   "cell_type": "code",
   "execution_count": 53,
   "metadata": {},
   "outputs": [
    {
     "data": {
      "text/plain": [
       "0.9545454545454545"
      ]
     },
     "execution_count": 53,
     "metadata": {},
     "output_type": "execute_result"
    }
   ],
   "source": [
    "auc_score3"
   ]
  },
  {
   "cell_type": "code",
   "execution_count": 54,
   "metadata": {},
   "outputs": [
    {
     "data": {
      "text/plain": [
       "Text(0.5, 0, 'False Positive Rate')"
      ]
     },
     "execution_count": 54,
     "metadata": {},
     "output_type": "execute_result"
    },
    {
     "data": {
      "image/png": "[encoded data removed]",
      "text/plain": [
       "<Figure size 432x288 with 1 Axes>"
      ]
     },
     "metadata": {
      "needs_background": "light"
     },
     "output_type": "display_data"
    }
   ],
   "source": [
    "plt.title('Receiver Operating Characteristic')\n",
    "plt.plot(fpr, tpr, 'b', label = 'Logistic AUC = %0.2f' % auc_score)\n",
    "plt.plot(fpr2, tpr2, 'b', label = 'SVM AUC = %0.2f' % auc_score2, color='green')\n",
    "plt.plot(fpr3, tpr3, 'b', label = 'Optimised SVM AUC = %0.2f' % auc_score3, color='red')\n",
    "plt.legend(loc = 'lower right')\n",
    "plt.plot([0, 1], [0, 1],'r--')\n",
    "plt.ylabel('True Positive Rate')\n",
    "plt.xlabel('False Positive Rate')"
   ]
  },
  {
   "cell_type": "code",
   "execution_count": null,
   "metadata": {},
   "outputs": [],
   "source": []
  }
 ],
 "metadata": {
  "kernelspec": {
   "display_name": "Python 3",
   "language": "python",
   "name": "python3"
  },
  "language_info": {
   "codemirror_mode": {
    "name": "ipython",
    "version": 3
   },
   "file_extension": ".py",
   "mimetype": "text/x-python",
   "name": "python",
   "nbconvert_exporter": "python",
   "pygments_lexer": "ipython3",
   "version": "3.6.7"
  }
 },
 "nbformat": 4,
 "nbformat_minor": 2
}
